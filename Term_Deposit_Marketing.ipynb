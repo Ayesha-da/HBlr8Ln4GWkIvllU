{
 "cells": [
  {
   "cell_type": "code",
   "execution_count": 69,
   "id": "e0e7b070",
   "metadata": {},
   "outputs": [],
   "source": [
    "import numpy as np\n",
    "import pandas as pd\n",
    "import matplotlib.pyplot as plt\n",
    "import seaborn as sns\n",
    "\n",
    "from sklearn.model_selection import train_test_split,  GridSearchCV, cross_val_score\n",
    "from pycaret.classification import *\n",
    "from sklearn.linear_model import LogisticRegression\n",
    "from sklearn.ensemble import RandomForestClassifier, ExtraTreesClassifier, VotingClassifier\n",
    "from sklearn.tree import DecisionTreeClassifier\n",
    "from catboost import CatBoostClassifier\n",
    "from lightgbm import LGBMClassifier\n",
    "from sklearn.linear_model import RidgeClassifier\n",
    "from sklearn.ensemble._weight_boosting import AdaBoostClassifier\n",
    "from sklearn.discriminant_analysis import LinearDiscriminantAnalysis\n",
    "from sklearn.metrics import accuracy_score, classification_report, confusion_matrix, roc_curve, recall_score"
   ]
  },
  {
   "cell_type": "code",
   "execution_count": 70,
   "id": "6a6af3c6",
   "metadata": {},
   "outputs": [
    {
     "data": {
      "text/html": [
       "<div>\n",
       "<style scoped>\n",
       "    .dataframe tbody tr th:only-of-type {\n",
       "        vertical-align: middle;\n",
       "    }\n",
       "\n",
       "    .dataframe tbody tr th {\n",
       "        vertical-align: top;\n",
       "    }\n",
       "\n",
       "    .dataframe thead th {\n",
       "        text-align: right;\n",
       "    }\n",
       "</style>\n",
       "<table border=\"1\" class=\"dataframe\">\n",
       "  <thead>\n",
       "    <tr style=\"text-align: right;\">\n",
       "      <th></th>\n",
       "      <th>age</th>\n",
       "      <th>job</th>\n",
       "      <th>marital</th>\n",
       "      <th>education</th>\n",
       "      <th>default</th>\n",
       "      <th>balance</th>\n",
       "      <th>housing</th>\n",
       "      <th>loan</th>\n",
       "      <th>contact</th>\n",
       "      <th>day</th>\n",
       "      <th>month</th>\n",
       "      <th>duration</th>\n",
       "      <th>campaign</th>\n",
       "      <th>y</th>\n",
       "    </tr>\n",
       "  </thead>\n",
       "  <tbody>\n",
       "    <tr>\n",
       "      <th>0</th>\n",
       "      <td>58</td>\n",
       "      <td>management</td>\n",
       "      <td>married</td>\n",
       "      <td>tertiary</td>\n",
       "      <td>no</td>\n",
       "      <td>2143</td>\n",
       "      <td>yes</td>\n",
       "      <td>no</td>\n",
       "      <td>unknown</td>\n",
       "      <td>5</td>\n",
       "      <td>may</td>\n",
       "      <td>261</td>\n",
       "      <td>1</td>\n",
       "      <td>no</td>\n",
       "    </tr>\n",
       "    <tr>\n",
       "      <th>1</th>\n",
       "      <td>44</td>\n",
       "      <td>technician</td>\n",
       "      <td>single</td>\n",
       "      <td>secondary</td>\n",
       "      <td>no</td>\n",
       "      <td>29</td>\n",
       "      <td>yes</td>\n",
       "      <td>no</td>\n",
       "      <td>unknown</td>\n",
       "      <td>5</td>\n",
       "      <td>may</td>\n",
       "      <td>151</td>\n",
       "      <td>1</td>\n",
       "      <td>no</td>\n",
       "    </tr>\n",
       "    <tr>\n",
       "      <th>2</th>\n",
       "      <td>33</td>\n",
       "      <td>entrepreneur</td>\n",
       "      <td>married</td>\n",
       "      <td>secondary</td>\n",
       "      <td>no</td>\n",
       "      <td>2</td>\n",
       "      <td>yes</td>\n",
       "      <td>yes</td>\n",
       "      <td>unknown</td>\n",
       "      <td>5</td>\n",
       "      <td>may</td>\n",
       "      <td>76</td>\n",
       "      <td>1</td>\n",
       "      <td>no</td>\n",
       "    </tr>\n",
       "    <tr>\n",
       "      <th>3</th>\n",
       "      <td>47</td>\n",
       "      <td>blue-collar</td>\n",
       "      <td>married</td>\n",
       "      <td>unknown</td>\n",
       "      <td>no</td>\n",
       "      <td>1506</td>\n",
       "      <td>yes</td>\n",
       "      <td>no</td>\n",
       "      <td>unknown</td>\n",
       "      <td>5</td>\n",
       "      <td>may</td>\n",
       "      <td>92</td>\n",
       "      <td>1</td>\n",
       "      <td>no</td>\n",
       "    </tr>\n",
       "    <tr>\n",
       "      <th>4</th>\n",
       "      <td>33</td>\n",
       "      <td>unknown</td>\n",
       "      <td>single</td>\n",
       "      <td>unknown</td>\n",
       "      <td>no</td>\n",
       "      <td>1</td>\n",
       "      <td>no</td>\n",
       "      <td>no</td>\n",
       "      <td>unknown</td>\n",
       "      <td>5</td>\n",
       "      <td>may</td>\n",
       "      <td>198</td>\n",
       "      <td>1</td>\n",
       "      <td>no</td>\n",
       "    </tr>\n",
       "    <tr>\n",
       "      <th>...</th>\n",
       "      <td>...</td>\n",
       "      <td>...</td>\n",
       "      <td>...</td>\n",
       "      <td>...</td>\n",
       "      <td>...</td>\n",
       "      <td>...</td>\n",
       "      <td>...</td>\n",
       "      <td>...</td>\n",
       "      <td>...</td>\n",
       "      <td>...</td>\n",
       "      <td>...</td>\n",
       "      <td>...</td>\n",
       "      <td>...</td>\n",
       "      <td>...</td>\n",
       "    </tr>\n",
       "    <tr>\n",
       "      <th>39995</th>\n",
       "      <td>53</td>\n",
       "      <td>technician</td>\n",
       "      <td>married</td>\n",
       "      <td>tertiary</td>\n",
       "      <td>no</td>\n",
       "      <td>395</td>\n",
       "      <td>no</td>\n",
       "      <td>no</td>\n",
       "      <td>cellular</td>\n",
       "      <td>3</td>\n",
       "      <td>jun</td>\n",
       "      <td>107</td>\n",
       "      <td>1</td>\n",
       "      <td>no</td>\n",
       "    </tr>\n",
       "    <tr>\n",
       "      <th>39996</th>\n",
       "      <td>30</td>\n",
       "      <td>management</td>\n",
       "      <td>single</td>\n",
       "      <td>tertiary</td>\n",
       "      <td>no</td>\n",
       "      <td>3340</td>\n",
       "      <td>no</td>\n",
       "      <td>no</td>\n",
       "      <td>cellular</td>\n",
       "      <td>3</td>\n",
       "      <td>jun</td>\n",
       "      <td>238</td>\n",
       "      <td>3</td>\n",
       "      <td>yes</td>\n",
       "    </tr>\n",
       "    <tr>\n",
       "      <th>39997</th>\n",
       "      <td>54</td>\n",
       "      <td>admin</td>\n",
       "      <td>divorced</td>\n",
       "      <td>secondary</td>\n",
       "      <td>no</td>\n",
       "      <td>200</td>\n",
       "      <td>no</td>\n",
       "      <td>no</td>\n",
       "      <td>cellular</td>\n",
       "      <td>3</td>\n",
       "      <td>jun</td>\n",
       "      <td>170</td>\n",
       "      <td>1</td>\n",
       "      <td>yes</td>\n",
       "    </tr>\n",
       "    <tr>\n",
       "      <th>39998</th>\n",
       "      <td>34</td>\n",
       "      <td>management</td>\n",
       "      <td>married</td>\n",
       "      <td>tertiary</td>\n",
       "      <td>no</td>\n",
       "      <td>1047</td>\n",
       "      <td>no</td>\n",
       "      <td>no</td>\n",
       "      <td>cellular</td>\n",
       "      <td>3</td>\n",
       "      <td>jun</td>\n",
       "      <td>342</td>\n",
       "      <td>1</td>\n",
       "      <td>no</td>\n",
       "    </tr>\n",
       "    <tr>\n",
       "      <th>39999</th>\n",
       "      <td>38</td>\n",
       "      <td>technician</td>\n",
       "      <td>married</td>\n",
       "      <td>secondary</td>\n",
       "      <td>no</td>\n",
       "      <td>1442</td>\n",
       "      <td>yes</td>\n",
       "      <td>no</td>\n",
       "      <td>cellular</td>\n",
       "      <td>3</td>\n",
       "      <td>jun</td>\n",
       "      <td>113</td>\n",
       "      <td>1</td>\n",
       "      <td>no</td>\n",
       "    </tr>\n",
       "  </tbody>\n",
       "</table>\n",
       "<p>40000 rows × 14 columns</p>\n",
       "</div>"
      ],
      "text/plain": [
       "       age           job   marital  education default  balance housing loan  \\\n",
       "0       58    management   married   tertiary      no     2143     yes   no   \n",
       "1       44    technician    single  secondary      no       29     yes   no   \n",
       "2       33  entrepreneur   married  secondary      no        2     yes  yes   \n",
       "3       47   blue-collar   married    unknown      no     1506     yes   no   \n",
       "4       33       unknown    single    unknown      no        1      no   no   \n",
       "...    ...           ...       ...        ...     ...      ...     ...  ...   \n",
       "39995   53    technician   married   tertiary      no      395      no   no   \n",
       "39996   30    management    single   tertiary      no     3340      no   no   \n",
       "39997   54         admin  divorced  secondary      no      200      no   no   \n",
       "39998   34    management   married   tertiary      no     1047      no   no   \n",
       "39999   38    technician   married  secondary      no     1442     yes   no   \n",
       "\n",
       "        contact  day month  duration  campaign    y  \n",
       "0       unknown    5   may       261         1   no  \n",
       "1       unknown    5   may       151         1   no  \n",
       "2       unknown    5   may        76         1   no  \n",
       "3       unknown    5   may        92         1   no  \n",
       "4       unknown    5   may       198         1   no  \n",
       "...         ...  ...   ...       ...       ...  ...  \n",
       "39995  cellular    3   jun       107         1   no  \n",
       "39996  cellular    3   jun       238         3  yes  \n",
       "39997  cellular    3   jun       170         1  yes  \n",
       "39998  cellular    3   jun       342         1   no  \n",
       "39999  cellular    3   jun       113         1   no  \n",
       "\n",
       "[40000 rows x 14 columns]"
      ]
     },
     "execution_count": 70,
     "metadata": {},
     "output_type": "execute_result"
    }
   ],
   "source": [
    "deposit_df=pd.read_csv(\"term-deposit-marketing-2020.csv\")\n",
    "deposit_df"
   ]
  },
  {
   "cell_type": "markdown",
   "id": "01eb89b0",
   "metadata": {},
   "source": [
    "Attributes:\n",
    "\n",
    "age : age of customer (numeric)\n",
    "\n",
    "job : type of job (categorical)\n",
    "\n",
    "marital : marital status (categorical)\n",
    "\n",
    "education (categorical)\n",
    "\n",
    "default: has credit in default? (binary)\n",
    "\n",
    "balance: average yearly balance, in euros (numeric)\n",
    "\n",
    "housing: has a housing loan? (binary)\n",
    "\n",
    "loan: has personal loan? (binary)\n",
    "\n",
    "contact: contact communication type (categorical)\n",
    "\n",
    "day: last contact day of the month (numeric)\n",
    "\n",
    "month: last contact month of year (categorical)\n",
    "\n",
    "duration: last contact duration, in seconds (numeric)\n",
    "\n",
    "campaign: number of contacts performed during this campaign and for this client (numeric, includes last contact)\n",
    "\n",
    "Output (desired target):\n",
    "\n",
    "y - has the client subscribed to a term deposit? (binary)"
   ]
  },
  {
   "cell_type": "code",
   "execution_count": 71,
   "id": "c202a3e5",
   "metadata": {},
   "outputs": [
    {
     "name": "stdout",
     "output_type": "stream",
     "text": [
      "<class 'pandas.core.frame.DataFrame'>\n",
      "RangeIndex: 40000 entries, 0 to 39999\n",
      "Data columns (total 14 columns):\n",
      " #   Column     Non-Null Count  Dtype \n",
      "---  ------     --------------  ----- \n",
      " 0   age        40000 non-null  int64 \n",
      " 1   job        40000 non-null  object\n",
      " 2   marital    40000 non-null  object\n",
      " 3   education  40000 non-null  object\n",
      " 4   default    40000 non-null  object\n",
      " 5   balance    40000 non-null  int64 \n",
      " 6   housing    40000 non-null  object\n",
      " 7   loan       40000 non-null  object\n",
      " 8   contact    40000 non-null  object\n",
      " 9   day        40000 non-null  int64 \n",
      " 10  month      40000 non-null  object\n",
      " 11  duration   40000 non-null  int64 \n",
      " 12  campaign   40000 non-null  int64 \n",
      " 13  y          40000 non-null  object\n",
      "dtypes: int64(5), object(9)\n",
      "memory usage: 4.3+ MB\n"
     ]
    }
   ],
   "source": [
    "deposit_df.info()"
   ]
  },
  {
   "cell_type": "code",
   "execution_count": 72,
   "id": "5c49461c",
   "metadata": {},
   "outputs": [
    {
     "data": {
      "text/plain": [
       "age          0\n",
       "job          0\n",
       "marital      0\n",
       "education    0\n",
       "default      0\n",
       "balance      0\n",
       "housing      0\n",
       "loan         0\n",
       "contact      0\n",
       "day          0\n",
       "month        0\n",
       "duration     0\n",
       "campaign     0\n",
       "y            0\n",
       "dtype: int64"
      ]
     },
     "execution_count": 72,
     "metadata": {},
     "output_type": "execute_result"
    }
   ],
   "source": [
    "# See Null values for all the columns\n",
    "deposit_df.isna().sum()"
   ]
  },
  {
   "cell_type": "code",
   "execution_count": 73,
   "id": "6727a226",
   "metadata": {},
   "outputs": [
    {
     "name": "stdout",
     "output_type": "stream",
     "text": [
      "age: [58 44 33 47 35 28 42 43 41 29 53 57 51 45 60 56 32 25 40 39 52 46 36 49\n",
      " 59 37 50 54 55 48 24 38 31 30 27 34 23 26 61 22 21 20 66 62 83 75 67 70\n",
      " 65 68 64 69 72 71 19 76 85 63 90 82 73 74 78 80 94 79 77 86 95 81]\n",
      "job: ['management' 'technician' 'entrepreneur' 'blue-collar' 'unknown'\n",
      " 'retired' 'admin' 'services' 'self-employed' 'unemployed' 'housemaid'\n",
      " 'student']\n",
      "marital: ['married' 'single' 'divorced']\n",
      "education: ['tertiary' 'secondary' 'unknown' 'primary']\n",
      "default: ['no' 'yes']\n",
      "balance: [  2143     29      2 ...   7222   3402 102127]\n",
      "housing: ['yes' 'no']\n",
      "loan: ['no' 'yes']\n",
      "contact: ['unknown' 'cellular' 'telephone']\n",
      "day: [ 5  6  7  8  9 12 13 14 15 16 19 20 21 23 26 27 28 29 30  2  3  4 11 17\n",
      " 18 24 25  1 10 22 31]\n",
      "month: ['may' 'jun' 'jul' 'aug' 'oct' 'nov' 'dec' 'jan' 'feb' 'mar' 'apr']\n",
      "duration: [ 261  151   76 ... 1880 1460 2219]\n",
      "campaign: [ 1  2  3  5  4  6  7  8  9 10 11 12 13 19 14 24 16 32 18 22 15 17 25 21\n",
      " 43 51 63 41 26 28 55 50 38 23 20 29 31 37 30 46 27 58 33 35 34 36 39 44]\n",
      "y: ['no' 'yes']\n"
     ]
    }
   ],
   "source": [
    "for i in deposit_df.columns:\n",
    "    print(f'{i}: {deposit_df[i].unique()}')"
   ]
  },
  {
   "cell_type": "markdown",
   "id": "4f413b40",
   "metadata": {},
   "source": [
    "# EXPLORATORY DATA ANALYSIS"
   ]
  },
  {
   "cell_type": "code",
   "execution_count": 74,
   "id": "28c42f79",
   "metadata": {},
   "outputs": [],
   "source": [
    "data1 = deposit_df[deposit_df['y'] == 'yes']\n",
    "data2 = deposit_df[deposit_df['y'] == 'no']"
   ]
  },
  {
   "cell_type": "code",
   "execution_count": 75,
   "id": "81118025",
   "metadata": {},
   "outputs": [
    {
     "data": {
      "image/png": "[encoded data removed]",
      "text/plain": [
       "<Figure size 864x720 with 4 Axes>"
      ]
     },
     "metadata": {},
     "output_type": "display_data"
    }
   ],
   "source": [
    "fig, ax = plt.subplots(2, 2, figsize=(12,10))\n",
    "\n",
    "b1 = ax[0, 0].bar(data1['day'].unique(),height = data1['day'].value_counts(),color='#3cb371')\n",
    "b2 = ax[0, 0].bar(data2['day'].unique(),height = data2['day'].value_counts(),bottom = data1['day'].value_counts(),color = '#DC4405') \n",
    "ax[0, 0].title.set_text('Day of month')\n",
    "#ax[0, 0].legend((b1[0], b2[0]), ('Yes', 'No'))\n",
    "ax[0, 1].bar(data1['month'].unique(),height = data1['month'].value_counts(),color='#3cb371')\n",
    "ax[0, 1].bar(data2['month'].unique(),height = data2['month'].value_counts(),bottom = data1['month'].value_counts(),color = '#DC4405') \n",
    "ax[0, 1].title.set_text('Month')\n",
    "ax[1, 0].bar(data1['job'].unique(),height = data1['job'].value_counts(),color='#3cb371')\n",
    "ax[1, 0].bar(data1['job'].unique(),height = data2['job'].value_counts()[data1['job'].value_counts().index],bottom = data1['job'].value_counts(),color = '#DC4405') \n",
    "ax[1, 0].title.set_text('Type of Job')\n",
    "ax[1, 0].tick_params(axis='x',rotation=90)\n",
    "ax[1, 1].bar(data1['education'].unique(),height = data1['education'].value_counts(),color='#3cb371') #row=0, col=1\n",
    "ax[1, 1].bar(data1['education'].unique(),height = data2['education'].value_counts()[data1['education'].value_counts().index],bottom = data1['education'].value_counts(),color = '#DC4405') \n",
    "ax[1, 1].title.set_text('Education')\n",
    "ax[1, 1].tick_params(axis='x',rotation=90)\n",
    "#ax[0, 1].xticks(rotation=90)\n",
    "plt.figlegend((b1[0], b2[0]), ('Yes', 'No'),loc=\"right\",title = \"Term deposit\")\n",
    "plt.show()"
   ]
  },
  {
   "cell_type": "markdown",
   "id": "48765511",
   "metadata": {},
   "source": [
    "- More phone calls are made in earlier days of the month compared to end of the month.\n",
    "- May is the most targeted month followed by consecutive months.\n",
    "- Jobs such as admin, technician and services are more targeted than other professions.\n",
    "- people with secondary education are highly targeted."
   ]
  },
  {
   "cell_type": "code",
   "execution_count": 76,
   "id": "7254e523",
   "metadata": {},
   "outputs": [
    {
     "data": {
      "text/plain": [
       "<matplotlib.legend.Legend at 0x1d401239948>"
      ]
     },
     "execution_count": 76,
     "metadata": {},
     "output_type": "execute_result"
    },
    {
     "data": {
      "image/png": "[encoded data removed]",
      "text/plain": [
       "<Figure size 1080x720 with 5 Axes>"
      ]
     },
     "metadata": {},
     "output_type": "display_data"
    }
   ],
   "source": [
    "fig, ax = plt.subplots(2, 3, figsize=(15,10))\n",
    "\n",
    "b1 = ax[0, 0].bar(data1['marital'].unique(),height = data1['marital'].value_counts(),color='#3cb371')\n",
    "b2 = ax[0, 0].bar(data1['marital'].unique(),height = data2['marital'].value_counts()[data1['marital'].value_counts().index],bottom = data1['marital'].value_counts(),color = '#DC4405') \n",
    "ax[0, 0].title.set_text('Marital Status')\n",
    "#ax[0, 0].legend((b1[0], b2[0]), ('Yes', 'No'))\n",
    "ax[0, 1].bar(data1['housing'].unique(),height = data1['housing'].value_counts(),color='#3cb371')\n",
    "ax[0, 1].bar(data1['housing'].unique(),height = data2['housing'].value_counts()[data1['housing'].value_counts().index],bottom = data1['housing'].value_counts(),color = '#DC4405') \n",
    "ax[0, 1].title.set_text('Has housing loan')\n",
    "ax[0, 2].bar(data1['loan'].unique(),height = data1['loan'].value_counts(),color='#3cb371')\n",
    "ax[0, 2].bar(data1['loan'].unique(),height = data2['loan'].value_counts()[data1['loan'].value_counts().index],bottom = data1['loan'].value_counts(),color = '#DC4405') \n",
    "ax[0, 2].title.set_text('Has personal loan')\n",
    "ax[1, 0].bar(data1['contact'].unique(),height = data1['contact'].value_counts(),color='#3cb371')\n",
    "ax[1, 0].bar(data1['contact'].unique(),height = data2['contact'].value_counts()[data1['contact'].value_counts().index],bottom = data1['contact'].value_counts(),color = '#DC4405') \n",
    "ax[1, 0].title.set_text('Type of Contact')\n",
    "ax[1,1].bar(data1['default'].unique(),height = data1['default'].value_counts(),color='#3cb371')\n",
    "ax[1,1].bar(data1['default'].unique(),height = data2['default'].value_counts()[data1['default'].value_counts().index],bottom = data1['default'].value_counts(),color = '#DC4405') \n",
    "ax[1,1].title.set_text('Has credit in default')\n",
    "ax[1,2].remove()\n",
    "plt.figlegend((b1[0], b2[0]), ('Yes', 'No'),loc=\"right\",title = \"Term deposit\")\n"
   ]
  },
  {
   "cell_type": "markdown",
   "id": "921b421d",
   "metadata": {},
   "source": [
    "- Generally people who are married,have housing loan and/or personal loan and non defaulters are targeted."
   ]
  },
  {
   "cell_type": "code",
   "execution_count": 77,
   "id": "bfffccb4",
   "metadata": {},
   "outputs": [
    {
     "data": {
      "text/plain": [
       "<matplotlib.legend.Legend at 0x1d4015af748>"
      ]
     },
     "execution_count": 77,
     "metadata": {},
     "output_type": "execute_result"
    },
    {
     "data": {
      "image/png": "[encoded data removed]",
      "text/plain": [
       "<Figure size 864x720 with 2 Axes>"
      ]
     },
     "metadata": {},
     "output_type": "display_data"
    }
   ],
   "source": [
    "fig, ax = plt.subplots(2,2, figsize=(12,10))\n",
    "\n",
    "ax[0, 0].hist(data2['age'],color = '#DC4405',alpha=0.7, edgecolor='white') \n",
    "ax[0, 0].hist(data1['age'],color='#3cb371',alpha=0.5, edgecolor='white')\n",
    "ax[0, 0].title.set_text('Age')\n",
    "ax[0, 1].hist(data2['duration'],color = '#DC4405',alpha=0.7, edgecolor='white') \n",
    "ax[0, 1].hist(data1['duration'],color='#3cb371',alpha=0.5,edgecolor='white' )\n",
    "ax[0, 1].title.set_text('Contact duration')\n",
    "\n",
    "ax[1,0].remove()\n",
    "ax[1,1].remove()\n",
    "plt.figlegend((b1[0], b2[0]), ('Yes', 'No'),loc=\"right\",title = \"Term deposit\")\n"
   ]
  },
  {
   "cell_type": "code",
   "execution_count": 78,
   "id": "362b90ca",
   "metadata": {},
   "outputs": [
    {
     "data": {
      "image/png": "[encoded data removed]",
      "text/plain": [
       "<Figure size 1080x720 with 2 Axes>"
      ]
     },
     "metadata": {},
     "output_type": "display_data"
    }
   ],
   "source": [
    "fig, ax = plt.subplots(1, 2, figsize=(15,10))\n",
    "bins=5\n",
    "sns.histplot(data=data1, x=data1['duration'], ax=ax[0])\n",
    "sns.histplot(data=data2, x=data2['duration'], ax=ax[1])\n",
    "\n",
    "plt.show()"
   ]
  },
  {
   "cell_type": "code",
   "execution_count": 79,
   "id": "b33e4a4c",
   "metadata": {},
   "outputs": [
    {
     "data": {
      "image/png": "[encoded data removed]",
      "text/plain": [
       "<Figure size 1080x720 with 2 Axes>"
      ]
     },
     "metadata": {},
     "output_type": "display_data"
    }
   ],
   "source": [
    "fig, ax = plt.subplots(1, 2, figsize=(15,10))\n",
    "bins=12\n",
    "\n",
    "sns.histplot(data=data1, x=data1['balance'], ax=ax[0],bins=bins)\n",
    "sns.histplot(data=data2, x=data2['balance'], ax=ax[1],bins=bins)\n",
    "\n",
    "plt.show()"
   ]
  },
  {
   "cell_type": "markdown",
   "id": "e61ccb55",
   "metadata": {},
   "source": [
    "- Age range from 30 to 60 are the main targets.\n",
    "- Calls are mostly 10 min or less\n",
    "- Balance is mostly below 5000"
   ]
  },
  {
   "cell_type": "markdown",
   "id": "4d4a7754",
   "metadata": {},
   "source": [
    "# # Statistical Analysis"
   ]
  },
  {
   "cell_type": "code",
   "execution_count": 80,
   "id": "4a1093b6",
   "metadata": {},
   "outputs": [
    {
     "data": {
      "text/html": [
       "<div>\n",
       "<style scoped>\n",
       "    .dataframe tbody tr th:only-of-type {\n",
       "        vertical-align: middle;\n",
       "    }\n",
       "\n",
       "    .dataframe tbody tr th {\n",
       "        vertical-align: top;\n",
       "    }\n",
       "\n",
       "    .dataframe thead th {\n",
       "        text-align: right;\n",
       "    }\n",
       "</style>\n",
       "<table border=\"1\" class=\"dataframe\">\n",
       "  <thead>\n",
       "    <tr style=\"text-align: right;\">\n",
       "      <th></th>\n",
       "      <th>age</th>\n",
       "      <th>balance</th>\n",
       "      <th>day</th>\n",
       "      <th>duration</th>\n",
       "      <th>campaign</th>\n",
       "    </tr>\n",
       "  </thead>\n",
       "  <tbody>\n",
       "    <tr>\n",
       "      <th>1</th>\n",
       "      <td>39.844959</td>\n",
       "      <td>1588.495856</td>\n",
       "      <td>15.827003</td>\n",
       "      <td>682.958564</td>\n",
       "      <td>2.414365</td>\n",
       "    </tr>\n",
       "    <tr>\n",
       "      <th>0</th>\n",
       "      <td>40.599208</td>\n",
       "      <td>1249.752533</td>\n",
       "      <td>16.032072</td>\n",
       "      <td>221.408042</td>\n",
       "      <td>2.918688</td>\n",
       "    </tr>\n",
       "  </tbody>\n",
       "</table>\n",
       "</div>"
      ],
      "text/plain": [
       "         age      balance        day    duration  campaign\n",
       "1  39.844959  1588.495856  15.827003  682.958564  2.414365\n",
       "0  40.599208  1249.752533  16.032072  221.408042  2.918688"
      ]
     },
     "execution_count": 80,
     "metadata": {},
     "output_type": "execute_result"
    }
   ],
   "source": [
    "numeric_features = ['age', 'balance', 'day', 'duration', 'campaign']\n",
    "data_mean = pd.DataFrame(data = {1 : list(deposit_df[deposit_df.y == 'yes'].describe().T['mean']), \n",
    "                                      0 : list(deposit_df[deposit_df.y == 'no'].describe().T['mean'])},\n",
    "                              index = numeric_features)\n",
    "data_mean.T"
   ]
  },
  {
   "cell_type": "code",
   "execution_count": 81,
   "id": "be18e652",
   "metadata": {},
   "outputs": [
    {
     "data": {
      "text/html": [
       "<div>\n",
       "<style scoped>\n",
       "    .dataframe tbody tr th:only-of-type {\n",
       "        vertical-align: middle;\n",
       "    }\n",
       "\n",
       "    .dataframe tbody tr th {\n",
       "        vertical-align: top;\n",
       "    }\n",
       "\n",
       "    .dataframe thead th {\n",
       "        text-align: right;\n",
       "    }\n",
       "</style>\n",
       "<table border=\"1\" class=\"dataframe\">\n",
       "  <thead>\n",
       "    <tr style=\"text-align: right;\">\n",
       "      <th></th>\n",
       "      <th>age</th>\n",
       "      <th>balance</th>\n",
       "      <th>day</th>\n",
       "      <th>duration</th>\n",
       "      <th>campaign</th>\n",
       "    </tr>\n",
       "  </thead>\n",
       "  <tbody>\n",
       "    <tr>\n",
       "      <th>1</th>\n",
       "      <td>37.0</td>\n",
       "      <td>620.0</td>\n",
       "      <td>16.0</td>\n",
       "      <td>629.0</td>\n",
       "      <td>2.0</td>\n",
       "    </tr>\n",
       "    <tr>\n",
       "      <th>0</th>\n",
       "      <td>39.0</td>\n",
       "      <td>395.0</td>\n",
       "      <td>17.0</td>\n",
       "      <td>164.0</td>\n",
       "      <td>2.0</td>\n",
       "    </tr>\n",
       "  </tbody>\n",
       "</table>\n",
       "</div>"
      ],
      "text/plain": [
       "    age  balance   day  duration  campaign\n",
       "1  37.0    620.0  16.0     629.0       2.0\n",
       "0  39.0    395.0  17.0     164.0       2.0"
      ]
     },
     "execution_count": 81,
     "metadata": {},
     "output_type": "execute_result"
    }
   ],
   "source": [
    "data_median = pd.DataFrame(data = {1 : list(deposit_df[deposit_df.y == 'yes'].describe().T['50%']), \n",
    "                                      0 : list(deposit_df[deposit_df.y == 'no'].describe().T['50%'])},\n",
    "                              index = numeric_features)\n",
    "data_median.T"
   ]
  },
  {
   "cell_type": "code",
   "execution_count": 82,
   "id": "f90cfa58",
   "metadata": {},
   "outputs": [
    {
     "data": {
      "text/html": [
       "<div>\n",
       "<style scoped>\n",
       "    .dataframe tbody tr th:only-of-type {\n",
       "        vertical-align: middle;\n",
       "    }\n",
       "\n",
       "    .dataframe tbody tr th {\n",
       "        vertical-align: top;\n",
       "    }\n",
       "\n",
       "    .dataframe thead th {\n",
       "        text-align: right;\n",
       "    }\n",
       "</style>\n",
       "<table border=\"1\" class=\"dataframe\">\n",
       "  <thead>\n",
       "    <tr style=\"text-align: right;\">\n",
       "      <th></th>\n",
       "      <th>age</th>\n",
       "      <th>balance</th>\n",
       "      <th>day</th>\n",
       "      <th>duration</th>\n",
       "      <th>campaign</th>\n",
       "    </tr>\n",
       "  </thead>\n",
       "  <tbody>\n",
       "    <tr>\n",
       "      <th>1</th>\n",
       "      <td>95.0</td>\n",
       "      <td>45248.0</td>\n",
       "      <td>31.0</td>\n",
       "      <td>3881.0</td>\n",
       "      <td>32.0</td>\n",
       "    </tr>\n",
       "    <tr>\n",
       "      <th>0</th>\n",
       "      <td>94.0</td>\n",
       "      <td>102127.0</td>\n",
       "      <td>31.0</td>\n",
       "      <td>4918.0</td>\n",
       "      <td>63.0</td>\n",
       "    </tr>\n",
       "  </tbody>\n",
       "</table>\n",
       "</div>"
      ],
      "text/plain": [
       "    age   balance   day  duration  campaign\n",
       "1  95.0   45248.0  31.0    3881.0      32.0\n",
       "0  94.0  102127.0  31.0    4918.0      63.0"
      ]
     },
     "execution_count": 82,
     "metadata": {},
     "output_type": "execute_result"
    }
   ],
   "source": [
    "data_max = pd.DataFrame(data = {1 : list(deposit_df[deposit_df.y == 'yes'].describe().T['max']), \n",
    "                                      0 : list(deposit_df[deposit_df.y == 'no'].describe().T['max'])},\n",
    "                              index = numeric_features)\n",
    "data_max.T"
   ]
  },
  {
   "cell_type": "markdown",
   "id": "c6448a41",
   "metadata": {},
   "source": [
    "- On average Subscribers are People who are:\n",
    "    - about age 35 - 40 years.\n",
    "    - Has balance of about 1500.\n",
    "    - mostly subscribes during the middle of the month.\n",
    "    - Are on call for about 10 minutes.\n",
    "    - Mostly from campaign 2."
   ]
  },
  {
   "cell_type": "code",
   "execution_count": 83,
   "id": "ce1e1723",
   "metadata": {
    "scrolled": false
   },
   "outputs": [
    {
     "data": {
      "image/png": "[encoded data removed]",
      "text/plain": [
       "<Figure size 720x720 with 1 Axes>"
      ]
     },
     "metadata": {},
     "output_type": "display_data"
    },
    {
     "data": {
      "image/png": "[encoded data removed]",
      "text/plain": [
       "<Figure size 720x720 with 1 Axes>"
      ]
     },
     "metadata": {},
     "output_type": "display_data"
    },
    {
     "data": {
      "image/png": "[encoded data removed]",
      "text/plain": [
       "<Figure size 720x720 with 1 Axes>"
      ]
     },
     "metadata": {},
     "output_type": "display_data"
    },
    {
     "data": {
      "image/png": "[encoded data removed]",
      "text/plain": [
       "<Figure size 720x720 with 1 Axes>"
      ]
     },
     "metadata": {},
     "output_type": "display_data"
    },
    {
     "data": {
      "image/png": "[encoded data removed]",
      "text/plain": [
       "<Figure size 720x720 with 1 Axes>"
      ]
     },
     "metadata": {},
     "output_type": "display_data"
    },
    {
     "data": {
      "image/png": "[encoded data removed]",
      "text/plain": [
       "<Figure size 720x720 with 1 Axes>"
      ]
     },
     "metadata": {},
     "output_type": "display_data"
    },
    {
     "data": {
      "image/png": "[encoded data removed]",
      "text/plain": [
       "<Figure size 720x720 with 1 Axes>"
      ]
     },
     "metadata": {},
     "output_type": "display_data"
    },
    {
     "data": {
      "image/png": "[encoded data removed]",
      "text/plain": [
       "<Figure size 720x720 with 1 Axes>"
      ]
     },
     "metadata": {},
     "output_type": "display_data"
    }
   ],
   "source": [
    "cat_features = ['job', 'marital', 'education', 'default','housing', 'loan', 'contact', 'month']\n",
    "for i in cat_features:\n",
    "    ratio = deposit_df[i].loc[(deposit_df.y == 'yes')].value_counts()/deposit_df[i].value_counts()*100\n",
    "    ratio = ratio.reset_index()\n",
    "    plt.subplots(nrows=1, ncols=1, figsize=(10,10))\n",
    "    sns.barplot(data=ratio, y='index', x=i)#, order=ratio.index)\n",
    "    #plt.xticks(rotation = 90)\n",
    "    plt.show()"
   ]
  },
  {
   "cell_type": "markdown",
   "id": "0f32d1f7",
   "metadata": {},
   "source": [
    "- People who are more likely to subscribe are :\n",
    "    - Students, retires.\n",
    "    - Singles\n",
    "    - clients with tertiary education\n",
    "    - people with no housing and/or personal loans.\n",
    "    \n",
    "- October and March show one of the highest subscription rates while these months were among least targeted."
   ]
  },
  {
   "cell_type": "markdown",
   "id": "91a30831",
   "metadata": {},
   "source": [
    "# DATA CLEANING"
   ]
  },
  {
   "cell_type": "markdown",
   "id": "02485910",
   "metadata": {},
   "source": [
    "- change data types to the appropriate type.\n",
    "- Impute any missing data"
   ]
  },
  {
   "cell_type": "markdown",
   "id": "1233fb9f",
   "metadata": {},
   "source": [
    "## REFORMATTING"
   ]
  },
  {
   "cell_type": "markdown",
   "id": "9220ecee",
   "metadata": {},
   "source": [
    "- Change default status, housing, loan, and y to boolean values.\n",
    "- Leave Job and Education 'Unknown' as it is."
   ]
  },
  {
   "cell_type": "code",
   "execution_count": 84,
   "id": "6910b476",
   "metadata": {},
   "outputs": [],
   "source": [
    "#make a copy of the data in case you need the original\n",
    "df1 = deposit_df.copy()"
   ]
  },
  {
   "cell_type": "code",
   "execution_count": 85,
   "id": "70d9dbeb",
   "metadata": {},
   "outputs": [],
   "source": [
    "#change default to a boolean\n",
    "df1.loc[df1.default =='yes', 'default'] = 1\n",
    "df1.loc[df1.default =='no', 'default'] = 0\n",
    "df1.default = df1.default.astype('int64')\n",
    "\n",
    "#change housing to a boolean\n",
    "df1.loc[df1.housing =='yes', 'housing'] = 1\n",
    "df1.loc[df1.housing =='no', 'housing'] = 0\n",
    "df1.housing = df1.housing.astype('int64')\n",
    "\n",
    "#change loan to a boolean \n",
    "df1.loc[df1.loan =='yes', 'loan'] = 1\n",
    "df1.loc[df1.loan =='no', 'loan'] = 0\n",
    "df1.loan = df1.loan.astype('int64')\n",
    "\n",
    "#change y to a boolean\n",
    "df1.loc[df1.y =='yes', 'y'] = 1\n",
    "df1.loc[df1.y =='no', 'y'] = 0\n",
    "df1.y = df1.y.astype('int64')"
   ]
  },
  {
   "cell_type": "markdown",
   "id": "e382570a",
   "metadata": {},
   "source": [
    "Because there are so many missing and unknown values for contact by cellular or telephone, we can impute this data by backfilling. We will assume that all points of contact by the user are only made over the phone and not in person or by email. This logically only leaves two options: a cellphone or landline."
   ]
  },
  {
   "cell_type": "code",
   "execution_count": 86,
   "id": "11e7bf4b",
   "metadata": {},
   "outputs": [],
   "source": [
    "#change unknown values in cellular to a NAN value\n",
    "df1.loc[df1.contact == 'unknown', 'contact'] = np.nan\n",
    "\n",
    "#back fill contact information\n",
    "df1.contact.fillna(method='bfill', inplace=True)"
   ]
  },
  {
   "cell_type": "markdown",
   "id": "22bfc565",
   "metadata": {},
   "source": [
    "# PRE-PROCESSING"
   ]
  },
  {
   "cell_type": "markdown",
   "id": "b1a61140",
   "metadata": {},
   "source": [
    "### TRANSFORMATION (TESTING SKEWNESS)"
   ]
  },
  {
   "cell_type": "markdown",
   "id": "cce1a926",
   "metadata": {},
   "source": [
    "- Before we model on the data, we need to look at some ways to transform each feature and normalize the data. Let's take a look at the skew and kurtosis. Skew is the measure of symmetry of the data on the left and right of the centerpoint and kurtosis measures how heavily tailed the data is relative to the normal distribution.\n",
    "- One-Hot or Label Encoding: We will change the categorical variables to numerically encoded values and see if the data is still skewed and needs to be transformed. We may not need to transform the data if the skew threshold is less than +/- 0.5\n",
    "- Evaluate Model Accuracy: Using pycaret, we will check the accuracy and recall metric of our data. This is to ensure that the model is able to capture the smaller class."
   ]
  },
  {
   "cell_type": "code",
   "execution_count": 87,
   "id": "809a1237",
   "metadata": {},
   "outputs": [
    {
     "data": {
      "text/html": [
       "<div>\n",
       "<style scoped>\n",
       "    .dataframe tbody tr th:only-of-type {\n",
       "        vertical-align: middle;\n",
       "    }\n",
       "\n",
       "    .dataframe tbody tr th {\n",
       "        vertical-align: top;\n",
       "    }\n",
       "\n",
       "    .dataframe thead th {\n",
       "        text-align: right;\n",
       "    }\n",
       "</style>\n",
       "<table border=\"1\" class=\"dataframe\">\n",
       "  <thead>\n",
       "    <tr style=\"text-align: right;\">\n",
       "      <th></th>\n",
       "      <th>skew</th>\n",
       "      <th>kurtosis</th>\n",
       "    </tr>\n",
       "  </thead>\n",
       "  <tbody>\n",
       "    <tr>\n",
       "      <th>age</th>\n",
       "      <td>0.436080</td>\n",
       "      <td>-0.503828</td>\n",
       "    </tr>\n",
       "    <tr>\n",
       "      <th>default</th>\n",
       "      <td>6.816736</td>\n",
       "      <td>44.470109</td>\n",
       "    </tr>\n",
       "    <tr>\n",
       "      <th>balance</th>\n",
       "      <td>8.259236</td>\n",
       "      <td>141.833247</td>\n",
       "    </tr>\n",
       "    <tr>\n",
       "      <th>housing</th>\n",
       "      <td>-0.411561</td>\n",
       "      <td>-1.830709</td>\n",
       "    </tr>\n",
       "    <tr>\n",
       "      <th>loan</th>\n",
       "      <td>1.726785</td>\n",
       "      <td>0.981834</td>\n",
       "    </tr>\n",
       "    <tr>\n",
       "      <th>day</th>\n",
       "      <td>0.067930</td>\n",
       "      <td>-1.052935</td>\n",
       "    </tr>\n",
       "    <tr>\n",
       "      <th>duration</th>\n",
       "      <td>3.165307</td>\n",
       "      <td>18.189852</td>\n",
       "    </tr>\n",
       "    <tr>\n",
       "      <th>campaign</th>\n",
       "      <td>4.730901</td>\n",
       "      <td>36.223536</td>\n",
       "    </tr>\n",
       "    <tr>\n",
       "      <th>y</th>\n",
       "      <td>3.300155</td>\n",
       "      <td>8.891467</td>\n",
       "    </tr>\n",
       "  </tbody>\n",
       "</table>\n",
       "</div>"
      ],
      "text/plain": [
       "              skew    kurtosis\n",
       "age       0.436080   -0.503828\n",
       "default   6.816736   44.470109\n",
       "balance   8.259236  141.833247\n",
       "housing  -0.411561   -1.830709\n",
       "loan      1.726785    0.981834\n",
       "day       0.067930   -1.052935\n",
       "duration  3.165307   18.189852\n",
       "campaign  4.730901   36.223536\n",
       "y         3.300155    8.891467"
      ]
     },
     "execution_count": 87,
     "metadata": {},
     "output_type": "execute_result"
    }
   ],
   "source": [
    "df1.agg(['skew', 'kurtosis']).T"
   ]
  },
  {
   "cell_type": "code",
   "execution_count": 88,
   "id": "edb10e06",
   "metadata": {},
   "outputs": [
    {
     "data": {
      "text/html": [
       "<div>\n",
       "<style scoped>\n",
       "    .dataframe tbody tr th:only-of-type {\n",
       "        vertical-align: middle;\n",
       "    }\n",
       "\n",
       "    .dataframe tbody tr th {\n",
       "        vertical-align: top;\n",
       "    }\n",
       "\n",
       "    .dataframe thead th {\n",
       "        text-align: right;\n",
       "    }\n",
       "</style>\n",
       "<table border=\"1\" class=\"dataframe\">\n",
       "  <thead>\n",
       "    <tr style=\"text-align: right;\">\n",
       "      <th></th>\n",
       "      <th>age</th>\n",
       "      <th>default</th>\n",
       "      <th>balance</th>\n",
       "      <th>housing</th>\n",
       "      <th>loan</th>\n",
       "      <th>day</th>\n",
       "      <th>duration</th>\n",
       "      <th>campaign</th>\n",
       "      <th>y</th>\n",
       "    </tr>\n",
       "  </thead>\n",
       "  <tbody>\n",
       "    <tr>\n",
       "      <th>count</th>\n",
       "      <td>40000.000000</td>\n",
       "      <td>40000.000000</td>\n",
       "      <td>40000.000000</td>\n",
       "      <td>40000.000000</td>\n",
       "      <td>40000.000000</td>\n",
       "      <td>40000.000000</td>\n",
       "      <td>40000.000000</td>\n",
       "      <td>40000.000000</td>\n",
       "      <td>40000.000000</td>\n",
       "    </tr>\n",
       "    <tr>\n",
       "      <th>mean</th>\n",
       "      <td>40.544600</td>\n",
       "      <td>0.020225</td>\n",
       "      <td>1274.277550</td>\n",
       "      <td>0.600775</td>\n",
       "      <td>0.173250</td>\n",
       "      <td>16.017225</td>\n",
       "      <td>254.824300</td>\n",
       "      <td>2.882175</td>\n",
       "      <td>0.072400</td>\n",
       "    </tr>\n",
       "    <tr>\n",
       "      <th>std</th>\n",
       "      <td>9.641776</td>\n",
       "      <td>0.140771</td>\n",
       "      <td>2903.769716</td>\n",
       "      <td>0.489745</td>\n",
       "      <td>0.378468</td>\n",
       "      <td>8.278127</td>\n",
       "      <td>259.366498</td>\n",
       "      <td>3.239051</td>\n",
       "      <td>0.259152</td>\n",
       "    </tr>\n",
       "    <tr>\n",
       "      <th>min</th>\n",
       "      <td>19.000000</td>\n",
       "      <td>0.000000</td>\n",
       "      <td>-8019.000000</td>\n",
       "      <td>0.000000</td>\n",
       "      <td>0.000000</td>\n",
       "      <td>1.000000</td>\n",
       "      <td>0.000000</td>\n",
       "      <td>1.000000</td>\n",
       "      <td>0.000000</td>\n",
       "    </tr>\n",
       "    <tr>\n",
       "      <th>25%</th>\n",
       "      <td>33.000000</td>\n",
       "      <td>0.000000</td>\n",
       "      <td>54.000000</td>\n",
       "      <td>0.000000</td>\n",
       "      <td>0.000000</td>\n",
       "      <td>8.000000</td>\n",
       "      <td>100.000000</td>\n",
       "      <td>1.000000</td>\n",
       "      <td>0.000000</td>\n",
       "    </tr>\n",
       "    <tr>\n",
       "      <th>50%</th>\n",
       "      <td>39.000000</td>\n",
       "      <td>0.000000</td>\n",
       "      <td>407.000000</td>\n",
       "      <td>1.000000</td>\n",
       "      <td>0.000000</td>\n",
       "      <td>17.000000</td>\n",
       "      <td>175.000000</td>\n",
       "      <td>2.000000</td>\n",
       "      <td>0.000000</td>\n",
       "    </tr>\n",
       "    <tr>\n",
       "      <th>75%</th>\n",
       "      <td>48.000000</td>\n",
       "      <td>0.000000</td>\n",
       "      <td>1319.000000</td>\n",
       "      <td>1.000000</td>\n",
       "      <td>0.000000</td>\n",
       "      <td>21.000000</td>\n",
       "      <td>313.000000</td>\n",
       "      <td>3.000000</td>\n",
       "      <td>0.000000</td>\n",
       "    </tr>\n",
       "    <tr>\n",
       "      <th>max</th>\n",
       "      <td>95.000000</td>\n",
       "      <td>1.000000</td>\n",
       "      <td>102127.000000</td>\n",
       "      <td>1.000000</td>\n",
       "      <td>1.000000</td>\n",
       "      <td>31.000000</td>\n",
       "      <td>4918.000000</td>\n",
       "      <td>63.000000</td>\n",
       "      <td>1.000000</td>\n",
       "    </tr>\n",
       "  </tbody>\n",
       "</table>\n",
       "</div>"
      ],
      "text/plain": [
       "                age       default        balance       housing          loan  \\\n",
       "count  40000.000000  40000.000000   40000.000000  40000.000000  40000.000000   \n",
       "mean      40.544600      0.020225    1274.277550      0.600775      0.173250   \n",
       "std        9.641776      0.140771    2903.769716      0.489745      0.378468   \n",
       "min       19.000000      0.000000   -8019.000000      0.000000      0.000000   \n",
       "25%       33.000000      0.000000      54.000000      0.000000      0.000000   \n",
       "50%       39.000000      0.000000     407.000000      1.000000      0.000000   \n",
       "75%       48.000000      0.000000    1319.000000      1.000000      0.000000   \n",
       "max       95.000000      1.000000  102127.000000      1.000000      1.000000   \n",
       "\n",
       "                day      duration      campaign             y  \n",
       "count  40000.000000  40000.000000  40000.000000  40000.000000  \n",
       "mean      16.017225    254.824300      2.882175      0.072400  \n",
       "std        8.278127    259.366498      3.239051      0.259152  \n",
       "min        1.000000      0.000000      1.000000      0.000000  \n",
       "25%        8.000000    100.000000      1.000000      0.000000  \n",
       "50%       17.000000    175.000000      2.000000      0.000000  \n",
       "75%       21.000000    313.000000      3.000000      0.000000  \n",
       "max       31.000000   4918.000000     63.000000      1.000000  "
      ]
     },
     "execution_count": 88,
     "metadata": {},
     "output_type": "execute_result"
    }
   ],
   "source": [
    "df1.describe()"
   ]
  },
  {
   "cell_type": "code",
   "execution_count": 89,
   "id": "c2702021",
   "metadata": {},
   "outputs": [
    {
     "data": {
      "text/html": [
       "<div>\n",
       "<style scoped>\n",
       "    .dataframe tbody tr th:only-of-type {\n",
       "        vertical-align: middle;\n",
       "    }\n",
       "\n",
       "    .dataframe tbody tr th {\n",
       "        vertical-align: top;\n",
       "    }\n",
       "\n",
       "    .dataframe thead th {\n",
       "        text-align: right;\n",
       "    }\n",
       "</style>\n",
       "<table border=\"1\" class=\"dataframe\">\n",
       "  <thead>\n",
       "    <tr style=\"text-align: right;\">\n",
       "      <th></th>\n",
       "      <th>age</th>\n",
       "      <th>job</th>\n",
       "      <th>marital</th>\n",
       "      <th>education</th>\n",
       "      <th>default</th>\n",
       "      <th>balance</th>\n",
       "      <th>housing</th>\n",
       "      <th>loan</th>\n",
       "      <th>contact</th>\n",
       "      <th>day</th>\n",
       "      <th>month</th>\n",
       "      <th>duration</th>\n",
       "      <th>campaign</th>\n",
       "      <th>y</th>\n",
       "    </tr>\n",
       "  </thead>\n",
       "  <tbody>\n",
       "    <tr>\n",
       "      <th>0</th>\n",
       "      <td>58</td>\n",
       "      <td>management</td>\n",
       "      <td>married</td>\n",
       "      <td>tertiary</td>\n",
       "      <td>0</td>\n",
       "      <td>2143</td>\n",
       "      <td>1</td>\n",
       "      <td>0</td>\n",
       "      <td>cellular</td>\n",
       "      <td>5</td>\n",
       "      <td>may</td>\n",
       "      <td>261</td>\n",
       "      <td>1</td>\n",
       "      <td>0</td>\n",
       "    </tr>\n",
       "    <tr>\n",
       "      <th>1</th>\n",
       "      <td>44</td>\n",
       "      <td>technician</td>\n",
       "      <td>single</td>\n",
       "      <td>secondary</td>\n",
       "      <td>0</td>\n",
       "      <td>29</td>\n",
       "      <td>1</td>\n",
       "      <td>0</td>\n",
       "      <td>cellular</td>\n",
       "      <td>5</td>\n",
       "      <td>may</td>\n",
       "      <td>151</td>\n",
       "      <td>1</td>\n",
       "      <td>0</td>\n",
       "    </tr>\n",
       "    <tr>\n",
       "      <th>2</th>\n",
       "      <td>33</td>\n",
       "      <td>entrepreneur</td>\n",
       "      <td>married</td>\n",
       "      <td>secondary</td>\n",
       "      <td>0</td>\n",
       "      <td>2</td>\n",
       "      <td>1</td>\n",
       "      <td>1</td>\n",
       "      <td>cellular</td>\n",
       "      <td>5</td>\n",
       "      <td>may</td>\n",
       "      <td>76</td>\n",
       "      <td>1</td>\n",
       "      <td>0</td>\n",
       "    </tr>\n",
       "    <tr>\n",
       "      <th>3</th>\n",
       "      <td>47</td>\n",
       "      <td>blue-collar</td>\n",
       "      <td>married</td>\n",
       "      <td>unknown</td>\n",
       "      <td>0</td>\n",
       "      <td>1506</td>\n",
       "      <td>1</td>\n",
       "      <td>0</td>\n",
       "      <td>cellular</td>\n",
       "      <td>5</td>\n",
       "      <td>may</td>\n",
       "      <td>92</td>\n",
       "      <td>1</td>\n",
       "      <td>0</td>\n",
       "    </tr>\n",
       "    <tr>\n",
       "      <th>4</th>\n",
       "      <td>33</td>\n",
       "      <td>unknown</td>\n",
       "      <td>single</td>\n",
       "      <td>unknown</td>\n",
       "      <td>0</td>\n",
       "      <td>1</td>\n",
       "      <td>0</td>\n",
       "      <td>0</td>\n",
       "      <td>cellular</td>\n",
       "      <td>5</td>\n",
       "      <td>may</td>\n",
       "      <td>198</td>\n",
       "      <td>1</td>\n",
       "      <td>0</td>\n",
       "    </tr>\n",
       "  </tbody>\n",
       "</table>\n",
       "</div>"
      ],
      "text/plain": [
       "   age           job  marital  education  default  balance  housing  loan  \\\n",
       "0   58    management  married   tertiary        0     2143        1     0   \n",
       "1   44    technician   single  secondary        0       29        1     0   \n",
       "2   33  entrepreneur  married  secondary        0        2        1     1   \n",
       "3   47   blue-collar  married    unknown        0     1506        1     0   \n",
       "4   33       unknown   single    unknown        0        1        0     0   \n",
       "\n",
       "    contact  day month  duration  campaign  y  \n",
       "0  cellular    5   may       261         1  0  \n",
       "1  cellular    5   may       151         1  0  \n",
       "2  cellular    5   may        76         1  0  \n",
       "3  cellular    5   may        92         1  0  \n",
       "4  cellular    5   may       198         1  0  "
      ]
     },
     "execution_count": 89,
     "metadata": {},
     "output_type": "execute_result"
    }
   ],
   "source": [
    "df1.head()"
   ]
  },
  {
   "cell_type": "markdown",
   "id": "a3969a4c",
   "metadata": {},
   "source": [
    "### DUMMY VARIABLES"
   ]
  },
  {
   "cell_type": "code",
   "execution_count": 90,
   "id": "cb3c6087",
   "metadata": {},
   "outputs": [
    {
     "data": {
      "text/html": [
       "<div>\n",
       "<style scoped>\n",
       "    .dataframe tbody tr th:only-of-type {\n",
       "        vertical-align: middle;\n",
       "    }\n",
       "\n",
       "    .dataframe tbody tr th {\n",
       "        vertical-align: top;\n",
       "    }\n",
       "\n",
       "    .dataframe thead th {\n",
       "        text-align: right;\n",
       "    }\n",
       "</style>\n",
       "<table border=\"1\" class=\"dataframe\">\n",
       "  <thead>\n",
       "    <tr style=\"text-align: right;\">\n",
       "      <th></th>\n",
       "      <th>age</th>\n",
       "      <th>default</th>\n",
       "      <th>balance</th>\n",
       "      <th>housing</th>\n",
       "      <th>loan</th>\n",
       "      <th>day</th>\n",
       "      <th>duration</th>\n",
       "      <th>campaign</th>\n",
       "      <th>y</th>\n",
       "      <th>job_admin</th>\n",
       "      <th>...</th>\n",
       "      <th>month_aug</th>\n",
       "      <th>month_dec</th>\n",
       "      <th>month_feb</th>\n",
       "      <th>month_jan</th>\n",
       "      <th>month_jul</th>\n",
       "      <th>month_jun</th>\n",
       "      <th>month_mar</th>\n",
       "      <th>month_may</th>\n",
       "      <th>month_nov</th>\n",
       "      <th>month_oct</th>\n",
       "    </tr>\n",
       "  </thead>\n",
       "  <tbody>\n",
       "    <tr>\n",
       "      <th>0</th>\n",
       "      <td>58</td>\n",
       "      <td>0</td>\n",
       "      <td>2143</td>\n",
       "      <td>1</td>\n",
       "      <td>0</td>\n",
       "      <td>5</td>\n",
       "      <td>261</td>\n",
       "      <td>1</td>\n",
       "      <td>0</td>\n",
       "      <td>0</td>\n",
       "      <td>...</td>\n",
       "      <td>0</td>\n",
       "      <td>0</td>\n",
       "      <td>0</td>\n",
       "      <td>0</td>\n",
       "      <td>0</td>\n",
       "      <td>0</td>\n",
       "      <td>0</td>\n",
       "      <td>1</td>\n",
       "      <td>0</td>\n",
       "      <td>0</td>\n",
       "    </tr>\n",
       "    <tr>\n",
       "      <th>1</th>\n",
       "      <td>44</td>\n",
       "      <td>0</td>\n",
       "      <td>29</td>\n",
       "      <td>1</td>\n",
       "      <td>0</td>\n",
       "      <td>5</td>\n",
       "      <td>151</td>\n",
       "      <td>1</td>\n",
       "      <td>0</td>\n",
       "      <td>0</td>\n",
       "      <td>...</td>\n",
       "      <td>0</td>\n",
       "      <td>0</td>\n",
       "      <td>0</td>\n",
       "      <td>0</td>\n",
       "      <td>0</td>\n",
       "      <td>0</td>\n",
       "      <td>0</td>\n",
       "      <td>1</td>\n",
       "      <td>0</td>\n",
       "      <td>0</td>\n",
       "    </tr>\n",
       "    <tr>\n",
       "      <th>2</th>\n",
       "      <td>33</td>\n",
       "      <td>0</td>\n",
       "      <td>2</td>\n",
       "      <td>1</td>\n",
       "      <td>1</td>\n",
       "      <td>5</td>\n",
       "      <td>76</td>\n",
       "      <td>1</td>\n",
       "      <td>0</td>\n",
       "      <td>0</td>\n",
       "      <td>...</td>\n",
       "      <td>0</td>\n",
       "      <td>0</td>\n",
       "      <td>0</td>\n",
       "      <td>0</td>\n",
       "      <td>0</td>\n",
       "      <td>0</td>\n",
       "      <td>0</td>\n",
       "      <td>1</td>\n",
       "      <td>0</td>\n",
       "      <td>0</td>\n",
       "    </tr>\n",
       "    <tr>\n",
       "      <th>3</th>\n",
       "      <td>47</td>\n",
       "      <td>0</td>\n",
       "      <td>1506</td>\n",
       "      <td>1</td>\n",
       "      <td>0</td>\n",
       "      <td>5</td>\n",
       "      <td>92</td>\n",
       "      <td>1</td>\n",
       "      <td>0</td>\n",
       "      <td>0</td>\n",
       "      <td>...</td>\n",
       "      <td>0</td>\n",
       "      <td>0</td>\n",
       "      <td>0</td>\n",
       "      <td>0</td>\n",
       "      <td>0</td>\n",
       "      <td>0</td>\n",
       "      <td>0</td>\n",
       "      <td>1</td>\n",
       "      <td>0</td>\n",
       "      <td>0</td>\n",
       "    </tr>\n",
       "    <tr>\n",
       "      <th>4</th>\n",
       "      <td>33</td>\n",
       "      <td>0</td>\n",
       "      <td>1</td>\n",
       "      <td>0</td>\n",
       "      <td>0</td>\n",
       "      <td>5</td>\n",
       "      <td>198</td>\n",
       "      <td>1</td>\n",
       "      <td>0</td>\n",
       "      <td>0</td>\n",
       "      <td>...</td>\n",
       "      <td>0</td>\n",
       "      <td>0</td>\n",
       "      <td>0</td>\n",
       "      <td>0</td>\n",
       "      <td>0</td>\n",
       "      <td>0</td>\n",
       "      <td>0</td>\n",
       "      <td>1</td>\n",
       "      <td>0</td>\n",
       "      <td>0</td>\n",
       "    </tr>\n",
       "    <tr>\n",
       "      <th>...</th>\n",
       "      <td>...</td>\n",
       "      <td>...</td>\n",
       "      <td>...</td>\n",
       "      <td>...</td>\n",
       "      <td>...</td>\n",
       "      <td>...</td>\n",
       "      <td>...</td>\n",
       "      <td>...</td>\n",
       "      <td>...</td>\n",
       "      <td>...</td>\n",
       "      <td>...</td>\n",
       "      <td>...</td>\n",
       "      <td>...</td>\n",
       "      <td>...</td>\n",
       "      <td>...</td>\n",
       "      <td>...</td>\n",
       "      <td>...</td>\n",
       "      <td>...</td>\n",
       "      <td>...</td>\n",
       "      <td>...</td>\n",
       "      <td>...</td>\n",
       "    </tr>\n",
       "    <tr>\n",
       "      <th>39995</th>\n",
       "      <td>53</td>\n",
       "      <td>0</td>\n",
       "      <td>395</td>\n",
       "      <td>0</td>\n",
       "      <td>0</td>\n",
       "      <td>3</td>\n",
       "      <td>107</td>\n",
       "      <td>1</td>\n",
       "      <td>0</td>\n",
       "      <td>0</td>\n",
       "      <td>...</td>\n",
       "      <td>0</td>\n",
       "      <td>0</td>\n",
       "      <td>0</td>\n",
       "      <td>0</td>\n",
       "      <td>0</td>\n",
       "      <td>1</td>\n",
       "      <td>0</td>\n",
       "      <td>0</td>\n",
       "      <td>0</td>\n",
       "      <td>0</td>\n",
       "    </tr>\n",
       "    <tr>\n",
       "      <th>39996</th>\n",
       "      <td>30</td>\n",
       "      <td>0</td>\n",
       "      <td>3340</td>\n",
       "      <td>0</td>\n",
       "      <td>0</td>\n",
       "      <td>3</td>\n",
       "      <td>238</td>\n",
       "      <td>3</td>\n",
       "      <td>1</td>\n",
       "      <td>0</td>\n",
       "      <td>...</td>\n",
       "      <td>0</td>\n",
       "      <td>0</td>\n",
       "      <td>0</td>\n",
       "      <td>0</td>\n",
       "      <td>0</td>\n",
       "      <td>1</td>\n",
       "      <td>0</td>\n",
       "      <td>0</td>\n",
       "      <td>0</td>\n",
       "      <td>0</td>\n",
       "    </tr>\n",
       "    <tr>\n",
       "      <th>39997</th>\n",
       "      <td>54</td>\n",
       "      <td>0</td>\n",
       "      <td>200</td>\n",
       "      <td>0</td>\n",
       "      <td>0</td>\n",
       "      <td>3</td>\n",
       "      <td>170</td>\n",
       "      <td>1</td>\n",
       "      <td>1</td>\n",
       "      <td>1</td>\n",
       "      <td>...</td>\n",
       "      <td>0</td>\n",
       "      <td>0</td>\n",
       "      <td>0</td>\n",
       "      <td>0</td>\n",
       "      <td>0</td>\n",
       "      <td>1</td>\n",
       "      <td>0</td>\n",
       "      <td>0</td>\n",
       "      <td>0</td>\n",
       "      <td>0</td>\n",
       "    </tr>\n",
       "    <tr>\n",
       "      <th>39998</th>\n",
       "      <td>34</td>\n",
       "      <td>0</td>\n",
       "      <td>1047</td>\n",
       "      <td>0</td>\n",
       "      <td>0</td>\n",
       "      <td>3</td>\n",
       "      <td>342</td>\n",
       "      <td>1</td>\n",
       "      <td>0</td>\n",
       "      <td>0</td>\n",
       "      <td>...</td>\n",
       "      <td>0</td>\n",
       "      <td>0</td>\n",
       "      <td>0</td>\n",
       "      <td>0</td>\n",
       "      <td>0</td>\n",
       "      <td>1</td>\n",
       "      <td>0</td>\n",
       "      <td>0</td>\n",
       "      <td>0</td>\n",
       "      <td>0</td>\n",
       "    </tr>\n",
       "    <tr>\n",
       "      <th>39999</th>\n",
       "      <td>38</td>\n",
       "      <td>0</td>\n",
       "      <td>1442</td>\n",
       "      <td>1</td>\n",
       "      <td>0</td>\n",
       "      <td>3</td>\n",
       "      <td>113</td>\n",
       "      <td>1</td>\n",
       "      <td>0</td>\n",
       "      <td>0</td>\n",
       "      <td>...</td>\n",
       "      <td>0</td>\n",
       "      <td>0</td>\n",
       "      <td>0</td>\n",
       "      <td>0</td>\n",
       "      <td>0</td>\n",
       "      <td>1</td>\n",
       "      <td>0</td>\n",
       "      <td>0</td>\n",
       "      <td>0</td>\n",
       "      <td>0</td>\n",
       "    </tr>\n",
       "  </tbody>\n",
       "</table>\n",
       "<p>40000 rows × 41 columns</p>\n",
       "</div>"
      ],
      "text/plain": [
       "       age  default  balance  housing  loan  day  duration  campaign  y  \\\n",
       "0       58        0     2143        1     0    5       261         1  0   \n",
       "1       44        0       29        1     0    5       151         1  0   \n",
       "2       33        0        2        1     1    5        76         1  0   \n",
       "3       47        0     1506        1     0    5        92         1  0   \n",
       "4       33        0        1        0     0    5       198         1  0   \n",
       "...    ...      ...      ...      ...   ...  ...       ...       ... ..   \n",
       "39995   53        0      395        0     0    3       107         1  0   \n",
       "39996   30        0     3340        0     0    3       238         3  1   \n",
       "39997   54        0      200        0     0    3       170         1  1   \n",
       "39998   34        0     1047        0     0    3       342         1  0   \n",
       "39999   38        0     1442        1     0    3       113         1  0   \n",
       "\n",
       "       job_admin  ...  month_aug  month_dec  month_feb  month_jan  month_jul  \\\n",
       "0              0  ...          0          0          0          0          0   \n",
       "1              0  ...          0          0          0          0          0   \n",
       "2              0  ...          0          0          0          0          0   \n",
       "3              0  ...          0          0          0          0          0   \n",
       "4              0  ...          0          0          0          0          0   \n",
       "...          ...  ...        ...        ...        ...        ...        ...   \n",
       "39995          0  ...          0          0          0          0          0   \n",
       "39996          0  ...          0          0          0          0          0   \n",
       "39997          1  ...          0          0          0          0          0   \n",
       "39998          0  ...          0          0          0          0          0   \n",
       "39999          0  ...          0          0          0          0          0   \n",
       "\n",
       "       month_jun  month_mar  month_may  month_nov  month_oct  \n",
       "0              0          0          1          0          0  \n",
       "1              0          0          1          0          0  \n",
       "2              0          0          1          0          0  \n",
       "3              0          0          1          0          0  \n",
       "4              0          0          1          0          0  \n",
       "...          ...        ...        ...        ...        ...  \n",
       "39995          1          0          0          0          0  \n",
       "39996          1          0          0          0          0  \n",
       "39997          1          0          0          0          0  \n",
       "39998          1          0          0          0          0  \n",
       "39999          1          0          0          0          0  \n",
       "\n",
       "[40000 rows x 41 columns]"
      ]
     },
     "execution_count": 90,
     "metadata": {},
     "output_type": "execute_result"
    }
   ],
   "source": [
    "#create a new dataframe\n",
    "#get dummies for non-ordinal features\n",
    "df2 = df1.copy()\n",
    "df2 = pd.get_dummies(df2)\n",
    "df2"
   ]
  },
  {
   "cell_type": "code",
   "execution_count": 91,
   "id": "b681e864",
   "metadata": {},
   "outputs": [
    {
     "data": {
      "text/html": [
       "<div>\n",
       "<style scoped>\n",
       "    .dataframe tbody tr th:only-of-type {\n",
       "        vertical-align: middle;\n",
       "    }\n",
       "\n",
       "    .dataframe tbody tr th {\n",
       "        vertical-align: top;\n",
       "    }\n",
       "\n",
       "    .dataframe thead th {\n",
       "        text-align: right;\n",
       "    }\n",
       "</style>\n",
       "<table border=\"1\" class=\"dataframe\">\n",
       "  <thead>\n",
       "    <tr style=\"text-align: right;\">\n",
       "      <th></th>\n",
       "      <th>skew</th>\n",
       "    </tr>\n",
       "  </thead>\n",
       "  <tbody>\n",
       "    <tr>\n",
       "      <th>age</th>\n",
       "      <td>0.436080</td>\n",
       "    </tr>\n",
       "    <tr>\n",
       "      <th>default</th>\n",
       "      <td>6.816736</td>\n",
       "    </tr>\n",
       "    <tr>\n",
       "      <th>balance</th>\n",
       "      <td>8.259236</td>\n",
       "    </tr>\n",
       "    <tr>\n",
       "      <th>housing</th>\n",
       "      <td>-0.411561</td>\n",
       "    </tr>\n",
       "    <tr>\n",
       "      <th>loan</th>\n",
       "      <td>1.726785</td>\n",
       "    </tr>\n",
       "    <tr>\n",
       "      <th>day</th>\n",
       "      <td>0.067930</td>\n",
       "    </tr>\n",
       "    <tr>\n",
       "      <th>duration</th>\n",
       "      <td>3.165307</td>\n",
       "    </tr>\n",
       "    <tr>\n",
       "      <th>campaign</th>\n",
       "      <td>4.730901</td>\n",
       "    </tr>\n",
       "    <tr>\n",
       "      <th>y</th>\n",
       "      <td>3.300155</td>\n",
       "    </tr>\n",
       "    <tr>\n",
       "      <th>job_admin</th>\n",
       "      <td>2.459527</td>\n",
       "    </tr>\n",
       "    <tr>\n",
       "      <th>job_blue-collar</th>\n",
       "      <td>1.252841</td>\n",
       "    </tr>\n",
       "    <tr>\n",
       "      <th>job_entrepreneur</th>\n",
       "      <td>5.050551</td>\n",
       "    </tr>\n",
       "    <tr>\n",
       "      <th>job_housemaid</th>\n",
       "      <td>5.816270</td>\n",
       "    </tr>\n",
       "    <tr>\n",
       "      <th>job_management</th>\n",
       "      <td>1.468005</td>\n",
       "    </tr>\n",
       "    <tr>\n",
       "      <th>job_retired</th>\n",
       "      <td>4.987474</td>\n",
       "    </tr>\n",
       "    <tr>\n",
       "      <th>job_self-employed</th>\n",
       "      <td>5.032603</td>\n",
       "    </tr>\n",
       "    <tr>\n",
       "      <th>job_services</th>\n",
       "      <td>2.709072</td>\n",
       "    </tr>\n",
       "    <tr>\n",
       "      <th>job_student</th>\n",
       "      <td>8.564733</td>\n",
       "    </tr>\n",
       "    <tr>\n",
       "      <th>job_technician</th>\n",
       "      <td>1.744892</td>\n",
       "    </tr>\n",
       "    <tr>\n",
       "      <th>job_unemployed</th>\n",
       "      <td>5.767388</td>\n",
       "    </tr>\n",
       "    <tr>\n",
       "      <th>job_unknown</th>\n",
       "      <td>12.931791</td>\n",
       "    </tr>\n",
       "    <tr>\n",
       "      <th>marital_divorced</th>\n",
       "      <td>2.366427</td>\n",
       "    </tr>\n",
       "    <tr>\n",
       "      <th>marital_married</th>\n",
       "      <td>-0.449560</td>\n",
       "    </tr>\n",
       "    <tr>\n",
       "      <th>marital_single</th>\n",
       "      <td>1.023505</td>\n",
       "    </tr>\n",
       "    <tr>\n",
       "      <th>education_primary</th>\n",
       "      <td>1.888317</td>\n",
       "    </tr>\n",
       "    <tr>\n",
       "      <th>education_secondary</th>\n",
       "      <td>-0.099426</td>\n",
       "    </tr>\n",
       "    <tr>\n",
       "      <th>education_tertiary</th>\n",
       "      <td>0.979166</td>\n",
       "    </tr>\n",
       "    <tr>\n",
       "      <th>education_unknown</th>\n",
       "      <td>4.813341</td>\n",
       "    </tr>\n",
       "    <tr>\n",
       "      <th>contact_cellular</th>\n",
       "      <td>-3.737658</td>\n",
       "    </tr>\n",
       "    <tr>\n",
       "      <th>contact_telephone</th>\n",
       "      <td>3.737658</td>\n",
       "    </tr>\n",
       "    <tr>\n",
       "      <th>month_apr</th>\n",
       "      <td>3.433729</td>\n",
       "    </tr>\n",
       "    <tr>\n",
       "      <th>month_aug</th>\n",
       "      <td>2.195556</td>\n",
       "    </tr>\n",
       "    <tr>\n",
       "      <th>month_dec</th>\n",
       "      <td>55.445054</td>\n",
       "    </tr>\n",
       "    <tr>\n",
       "      <th>month_feb</th>\n",
       "      <td>3.805730</td>\n",
       "    </tr>\n",
       "    <tr>\n",
       "      <th>month_jan</th>\n",
       "      <td>5.571914</td>\n",
       "    </tr>\n",
       "    <tr>\n",
       "      <th>month_jul</th>\n",
       "      <td>1.860005</td>\n",
       "    </tr>\n",
       "    <tr>\n",
       "      <th>month_jun</th>\n",
       "      <td>2.363085</td>\n",
       "    </tr>\n",
       "    <tr>\n",
       "      <th>month_mar</th>\n",
       "      <td>12.331125</td>\n",
       "    </tr>\n",
       "    <tr>\n",
       "      <th>month_may</th>\n",
       "      <td>0.683557</td>\n",
       "    </tr>\n",
       "    <tr>\n",
       "      <th>month_nov</th>\n",
       "      <td>2.866486</td>\n",
       "    </tr>\n",
       "    <tr>\n",
       "      <th>month_oct</th>\n",
       "      <td>22.294378</td>\n",
       "    </tr>\n",
       "  </tbody>\n",
       "</table>\n",
       "</div>"
      ],
      "text/plain": [
       "                          skew\n",
       "age                   0.436080\n",
       "default               6.816736\n",
       "balance               8.259236\n",
       "housing              -0.411561\n",
       "loan                  1.726785\n",
       "day                   0.067930\n",
       "duration              3.165307\n",
       "campaign              4.730901\n",
       "y                     3.300155\n",
       "job_admin             2.459527\n",
       "job_blue-collar       1.252841\n",
       "job_entrepreneur      5.050551\n",
       "job_housemaid         5.816270\n",
       "job_management        1.468005\n",
       "job_retired           4.987474\n",
       "job_self-employed     5.032603\n",
       "job_services          2.709072\n",
       "job_student           8.564733\n",
       "job_technician        1.744892\n",
       "job_unemployed        5.767388\n",
       "job_unknown          12.931791\n",
       "marital_divorced      2.366427\n",
       "marital_married      -0.449560\n",
       "marital_single        1.023505\n",
       "education_primary     1.888317\n",
       "education_secondary  -0.099426\n",
       "education_tertiary    0.979166\n",
       "education_unknown     4.813341\n",
       "contact_cellular     -3.737658\n",
       "contact_telephone     3.737658\n",
       "month_apr             3.433729\n",
       "month_aug             2.195556\n",
       "month_dec            55.445054\n",
       "month_feb             3.805730\n",
       "month_jan             5.571914\n",
       "month_jul             1.860005\n",
       "month_jun             2.363085\n",
       "month_mar            12.331125\n",
       "month_may             0.683557\n",
       "month_nov             2.866486\n",
       "month_oct            22.294378"
      ]
     },
     "execution_count": 91,
     "metadata": {},
     "output_type": "execute_result"
    }
   ],
   "source": [
    "df2.agg(['skew']).T"
   ]
  },
  {
   "cell_type": "markdown",
   "id": "4252d81d",
   "metadata": {},
   "source": [
    "# TRAIN TEST SPLIT"
   ]
  },
  {
   "cell_type": "code",
   "execution_count": 92,
   "id": "e09d8e71",
   "metadata": {},
   "outputs": [
    {
     "data": {
      "text/html": [
       "<div>\n",
       "<style scoped>\n",
       "    .dataframe tbody tr th:only-of-type {\n",
       "        vertical-align: middle;\n",
       "    }\n",
       "\n",
       "    .dataframe tbody tr th {\n",
       "        vertical-align: top;\n",
       "    }\n",
       "\n",
       "    .dataframe thead th {\n",
       "        text-align: right;\n",
       "    }\n",
       "</style>\n",
       "<table border=\"1\" class=\"dataframe\">\n",
       "  <thead>\n",
       "    <tr style=\"text-align: right;\">\n",
       "      <th></th>\n",
       "      <th>age</th>\n",
       "      <th>default</th>\n",
       "      <th>balance</th>\n",
       "      <th>housing</th>\n",
       "      <th>loan</th>\n",
       "      <th>day</th>\n",
       "      <th>duration</th>\n",
       "      <th>campaign</th>\n",
       "      <th>job_admin</th>\n",
       "      <th>job_blue-collar</th>\n",
       "      <th>...</th>\n",
       "      <th>month_aug</th>\n",
       "      <th>month_dec</th>\n",
       "      <th>month_feb</th>\n",
       "      <th>month_jan</th>\n",
       "      <th>month_jul</th>\n",
       "      <th>month_jun</th>\n",
       "      <th>month_mar</th>\n",
       "      <th>month_may</th>\n",
       "      <th>month_nov</th>\n",
       "      <th>month_oct</th>\n",
       "    </tr>\n",
       "  </thead>\n",
       "  <tbody>\n",
       "    <tr>\n",
       "      <th>0</th>\n",
       "      <td>58</td>\n",
       "      <td>0</td>\n",
       "      <td>2143</td>\n",
       "      <td>1</td>\n",
       "      <td>0</td>\n",
       "      <td>5</td>\n",
       "      <td>261</td>\n",
       "      <td>1</td>\n",
       "      <td>0</td>\n",
       "      <td>0</td>\n",
       "      <td>...</td>\n",
       "      <td>0</td>\n",
       "      <td>0</td>\n",
       "      <td>0</td>\n",
       "      <td>0</td>\n",
       "      <td>0</td>\n",
       "      <td>0</td>\n",
       "      <td>0</td>\n",
       "      <td>1</td>\n",
       "      <td>0</td>\n",
       "      <td>0</td>\n",
       "    </tr>\n",
       "    <tr>\n",
       "      <th>1</th>\n",
       "      <td>44</td>\n",
       "      <td>0</td>\n",
       "      <td>29</td>\n",
       "      <td>1</td>\n",
       "      <td>0</td>\n",
       "      <td>5</td>\n",
       "      <td>151</td>\n",
       "      <td>1</td>\n",
       "      <td>0</td>\n",
       "      <td>0</td>\n",
       "      <td>...</td>\n",
       "      <td>0</td>\n",
       "      <td>0</td>\n",
       "      <td>0</td>\n",
       "      <td>0</td>\n",
       "      <td>0</td>\n",
       "      <td>0</td>\n",
       "      <td>0</td>\n",
       "      <td>1</td>\n",
       "      <td>0</td>\n",
       "      <td>0</td>\n",
       "    </tr>\n",
       "    <tr>\n",
       "      <th>2</th>\n",
       "      <td>33</td>\n",
       "      <td>0</td>\n",
       "      <td>2</td>\n",
       "      <td>1</td>\n",
       "      <td>1</td>\n",
       "      <td>5</td>\n",
       "      <td>76</td>\n",
       "      <td>1</td>\n",
       "      <td>0</td>\n",
       "      <td>0</td>\n",
       "      <td>...</td>\n",
       "      <td>0</td>\n",
       "      <td>0</td>\n",
       "      <td>0</td>\n",
       "      <td>0</td>\n",
       "      <td>0</td>\n",
       "      <td>0</td>\n",
       "      <td>0</td>\n",
       "      <td>1</td>\n",
       "      <td>0</td>\n",
       "      <td>0</td>\n",
       "    </tr>\n",
       "    <tr>\n",
       "      <th>3</th>\n",
       "      <td>47</td>\n",
       "      <td>0</td>\n",
       "      <td>1506</td>\n",
       "      <td>1</td>\n",
       "      <td>0</td>\n",
       "      <td>5</td>\n",
       "      <td>92</td>\n",
       "      <td>1</td>\n",
       "      <td>0</td>\n",
       "      <td>1</td>\n",
       "      <td>...</td>\n",
       "      <td>0</td>\n",
       "      <td>0</td>\n",
       "      <td>0</td>\n",
       "      <td>0</td>\n",
       "      <td>0</td>\n",
       "      <td>0</td>\n",
       "      <td>0</td>\n",
       "      <td>1</td>\n",
       "      <td>0</td>\n",
       "      <td>0</td>\n",
       "    </tr>\n",
       "    <tr>\n",
       "      <th>4</th>\n",
       "      <td>33</td>\n",
       "      <td>0</td>\n",
       "      <td>1</td>\n",
       "      <td>0</td>\n",
       "      <td>0</td>\n",
       "      <td>5</td>\n",
       "      <td>198</td>\n",
       "      <td>1</td>\n",
       "      <td>0</td>\n",
       "      <td>0</td>\n",
       "      <td>...</td>\n",
       "      <td>0</td>\n",
       "      <td>0</td>\n",
       "      <td>0</td>\n",
       "      <td>0</td>\n",
       "      <td>0</td>\n",
       "      <td>0</td>\n",
       "      <td>0</td>\n",
       "      <td>1</td>\n",
       "      <td>0</td>\n",
       "      <td>0</td>\n",
       "    </tr>\n",
       "    <tr>\n",
       "      <th>...</th>\n",
       "      <td>...</td>\n",
       "      <td>...</td>\n",
       "      <td>...</td>\n",
       "      <td>...</td>\n",
       "      <td>...</td>\n",
       "      <td>...</td>\n",
       "      <td>...</td>\n",
       "      <td>...</td>\n",
       "      <td>...</td>\n",
       "      <td>...</td>\n",
       "      <td>...</td>\n",
       "      <td>...</td>\n",
       "      <td>...</td>\n",
       "      <td>...</td>\n",
       "      <td>...</td>\n",
       "      <td>...</td>\n",
       "      <td>...</td>\n",
       "      <td>...</td>\n",
       "      <td>...</td>\n",
       "      <td>...</td>\n",
       "      <td>...</td>\n",
       "    </tr>\n",
       "    <tr>\n",
       "      <th>39995</th>\n",
       "      <td>53</td>\n",
       "      <td>0</td>\n",
       "      <td>395</td>\n",
       "      <td>0</td>\n",
       "      <td>0</td>\n",
       "      <td>3</td>\n",
       "      <td>107</td>\n",
       "      <td>1</td>\n",
       "      <td>0</td>\n",
       "      <td>0</td>\n",
       "      <td>...</td>\n",
       "      <td>0</td>\n",
       "      <td>0</td>\n",
       "      <td>0</td>\n",
       "      <td>0</td>\n",
       "      <td>0</td>\n",
       "      <td>1</td>\n",
       "      <td>0</td>\n",
       "      <td>0</td>\n",
       "      <td>0</td>\n",
       "      <td>0</td>\n",
       "    </tr>\n",
       "    <tr>\n",
       "      <th>39996</th>\n",
       "      <td>30</td>\n",
       "      <td>0</td>\n",
       "      <td>3340</td>\n",
       "      <td>0</td>\n",
       "      <td>0</td>\n",
       "      <td>3</td>\n",
       "      <td>238</td>\n",
       "      <td>3</td>\n",
       "      <td>0</td>\n",
       "      <td>0</td>\n",
       "      <td>...</td>\n",
       "      <td>0</td>\n",
       "      <td>0</td>\n",
       "      <td>0</td>\n",
       "      <td>0</td>\n",
       "      <td>0</td>\n",
       "      <td>1</td>\n",
       "      <td>0</td>\n",
       "      <td>0</td>\n",
       "      <td>0</td>\n",
       "      <td>0</td>\n",
       "    </tr>\n",
       "    <tr>\n",
       "      <th>39997</th>\n",
       "      <td>54</td>\n",
       "      <td>0</td>\n",
       "      <td>200</td>\n",
       "      <td>0</td>\n",
       "      <td>0</td>\n",
       "      <td>3</td>\n",
       "      <td>170</td>\n",
       "      <td>1</td>\n",
       "      <td>1</td>\n",
       "      <td>0</td>\n",
       "      <td>...</td>\n",
       "      <td>0</td>\n",
       "      <td>0</td>\n",
       "      <td>0</td>\n",
       "      <td>0</td>\n",
       "      <td>0</td>\n",
       "      <td>1</td>\n",
       "      <td>0</td>\n",
       "      <td>0</td>\n",
       "      <td>0</td>\n",
       "      <td>0</td>\n",
       "    </tr>\n",
       "    <tr>\n",
       "      <th>39998</th>\n",
       "      <td>34</td>\n",
       "      <td>0</td>\n",
       "      <td>1047</td>\n",
       "      <td>0</td>\n",
       "      <td>0</td>\n",
       "      <td>3</td>\n",
       "      <td>342</td>\n",
       "      <td>1</td>\n",
       "      <td>0</td>\n",
       "      <td>0</td>\n",
       "      <td>...</td>\n",
       "      <td>0</td>\n",
       "      <td>0</td>\n",
       "      <td>0</td>\n",
       "      <td>0</td>\n",
       "      <td>0</td>\n",
       "      <td>1</td>\n",
       "      <td>0</td>\n",
       "      <td>0</td>\n",
       "      <td>0</td>\n",
       "      <td>0</td>\n",
       "    </tr>\n",
       "    <tr>\n",
       "      <th>39999</th>\n",
       "      <td>38</td>\n",
       "      <td>0</td>\n",
       "      <td>1442</td>\n",
       "      <td>1</td>\n",
       "      <td>0</td>\n",
       "      <td>3</td>\n",
       "      <td>113</td>\n",
       "      <td>1</td>\n",
       "      <td>0</td>\n",
       "      <td>0</td>\n",
       "      <td>...</td>\n",
       "      <td>0</td>\n",
       "      <td>0</td>\n",
       "      <td>0</td>\n",
       "      <td>0</td>\n",
       "      <td>0</td>\n",
       "      <td>1</td>\n",
       "      <td>0</td>\n",
       "      <td>0</td>\n",
       "      <td>0</td>\n",
       "      <td>0</td>\n",
       "    </tr>\n",
       "  </tbody>\n",
       "</table>\n",
       "<p>40000 rows × 40 columns</p>\n",
       "</div>"
      ],
      "text/plain": [
       "       age  default  balance  housing  loan  day  duration  campaign  \\\n",
       "0       58        0     2143        1     0    5       261         1   \n",
       "1       44        0       29        1     0    5       151         1   \n",
       "2       33        0        2        1     1    5        76         1   \n",
       "3       47        0     1506        1     0    5        92         1   \n",
       "4       33        0        1        0     0    5       198         1   \n",
       "...    ...      ...      ...      ...   ...  ...       ...       ...   \n",
       "39995   53        0      395        0     0    3       107         1   \n",
       "39996   30        0     3340        0     0    3       238         3   \n",
       "39997   54        0      200        0     0    3       170         1   \n",
       "39998   34        0     1047        0     0    3       342         1   \n",
       "39999   38        0     1442        1     0    3       113         1   \n",
       "\n",
       "       job_admin  job_blue-collar  ...  month_aug  month_dec  month_feb  \\\n",
       "0              0                0  ...          0          0          0   \n",
       "1              0                0  ...          0          0          0   \n",
       "2              0                0  ...          0          0          0   \n",
       "3              0                1  ...          0          0          0   \n",
       "4              0                0  ...          0          0          0   \n",
       "...          ...              ...  ...        ...        ...        ...   \n",
       "39995          0                0  ...          0          0          0   \n",
       "39996          0                0  ...          0          0          0   \n",
       "39997          1                0  ...          0          0          0   \n",
       "39998          0                0  ...          0          0          0   \n",
       "39999          0                0  ...          0          0          0   \n",
       "\n",
       "       month_jan  month_jul  month_jun  month_mar  month_may  month_nov  \\\n",
       "0              0          0          0          0          1          0   \n",
       "1              0          0          0          0          1          0   \n",
       "2              0          0          0          0          1          0   \n",
       "3              0          0          0          0          1          0   \n",
       "4              0          0          0          0          1          0   \n",
       "...          ...        ...        ...        ...        ...        ...   \n",
       "39995          0          0          1          0          0          0   \n",
       "39996          0          0          1          0          0          0   \n",
       "39997          0          0          1          0          0          0   \n",
       "39998          0          0          1          0          0          0   \n",
       "39999          0          0          1          0          0          0   \n",
       "\n",
       "       month_oct  \n",
       "0              0  \n",
       "1              0  \n",
       "2              0  \n",
       "3              0  \n",
       "4              0  \n",
       "...          ...  \n",
       "39995          0  \n",
       "39996          0  \n",
       "39997          0  \n",
       "39998          0  \n",
       "39999          0  \n",
       "\n",
       "[40000 rows x 40 columns]"
      ]
     },
     "execution_count": 92,
     "metadata": {},
     "output_type": "execute_result"
    }
   ],
   "source": [
    "# Create our features\n",
    "y = df2[\"y\"]\n",
    "X = df2.drop(\"y\", axis=1)\n",
    "X"
   ]
  },
  {
   "cell_type": "code",
   "execution_count": 93,
   "id": "423a0d05",
   "metadata": {},
   "outputs": [
    {
     "data": {
      "text/plain": [
       "0    37104\n",
       "1     2896\n",
       "Name: y, dtype: int64"
      ]
     },
     "execution_count": 93,
     "metadata": {},
     "output_type": "execute_result"
    }
   ],
   "source": [
    "# Check the balance of our target values\n",
    "y.value_counts()"
   ]
  },
  {
   "cell_type": "code",
   "execution_count": 117,
   "id": "b6feea96",
   "metadata": {},
   "outputs": [
    {
     "data": {
      "text/plain": [
       "<AxesSubplot:xlabel='y', ylabel='count'>"
      ]
     },
     "execution_count": 117,
     "metadata": {},
     "output_type": "execute_result"
    },
    {
     "data": {
      "image/png": "[encoded data removed]",
      "text/plain": [
       "<Figure size 576x396 with 1 Axes>"
      ]
     },
     "metadata": {},
     "output_type": "display_data"
    }
   ],
   "source": [
    "sns.countplot(df2['y'])"
   ]
  },
  {
   "cell_type": "code",
   "execution_count": 118,
   "id": "9d8a0a4c",
   "metadata": {},
   "outputs": [],
   "source": [
    "#from sklearn.model_selection import train_test_split\n",
    "#X_train, X_test, y_train, y_test = train_test_split(X, y, test_size=0.15,random_state=42)"
   ]
  },
  {
   "cell_type": "markdown",
   "id": "e14ad2b3",
   "metadata": {},
   "source": [
    "# Random OverSampling"
   ]
  },
  {
   "cell_type": "markdown",
   "id": "312194ac",
   "metadata": {},
   "source": [
    "We need to resample the data since the target class is highly imbalanced."
   ]
  },
  {
   "cell_type": "code",
   "execution_count": 119,
   "id": "30dfd43a",
   "metadata": {},
   "outputs": [],
   "source": [
    "import random\n",
    "\n",
    "# set seed for reproducability\n",
    "seed = 42\n",
    "random.seed(seed)"
   ]
  },
  {
   "cell_type": "code",
   "execution_count": 120,
   "id": "e6a22b77",
   "metadata": {},
   "outputs": [],
   "source": [
    "from imblearn.over_sampling import RandomOverSampler,SMOTE\n",
    "from collections import Counter\n",
    "#ros = RandomOverSampler(random_state=seed)\n",
    "#X_resampled, y_resampled = ros.fit_resample(X_train, y_train)"
   ]
  },
  {
   "cell_type": "code",
   "execution_count": 121,
   "id": "38b9c690",
   "metadata": {},
   "outputs": [],
   "source": [
    "from imblearn.under_sampling import RandomUnderSampler\n",
    "#down = RandomUnderSampler(random_state = seed)     \n",
    "#X_down, y_down = down.fit_resample(X_train, y_train) "
   ]
  },
  {
   "cell_type": "code",
   "execution_count": 122,
   "id": "4f437027",
   "metadata": {},
   "outputs": [],
   "source": [
    "#Counter(y_down)"
   ]
  },
  {
   "cell_type": "code",
   "execution_count": 123,
   "id": "94cb24cd",
   "metadata": {},
   "outputs": [],
   "source": [
    "#sns.countplot(y_down)"
   ]
  },
  {
   "cell_type": "markdown",
   "id": "73c2e440",
   "metadata": {},
   "source": [
    "### Upsampling - SMOTE"
   ]
  },
  {
   "cell_type": "code",
   "execution_count": 124,
   "id": "44cadd93",
   "metadata": {},
   "outputs": [],
   "source": [
    "#smote = SMOTE(random_state = seed)\n",
    "#X_smote, y_smote = smote.fit_resample(X_train, y_train)"
   ]
  },
  {
   "cell_type": "code",
   "execution_count": 125,
   "id": "e8ece0b8",
   "metadata": {},
   "outputs": [],
   "source": [
    "# check sampling distribution\n",
    "#pd.value_counts(y_smote) "
   ]
  },
  {
   "cell_type": "code",
   "execution_count": 128,
   "id": "80f1f305",
   "metadata": {},
   "outputs": [
    {
     "data": {
      "text/plain": [
       "0    37104\n",
       "1     2896\n",
       "Name: y, dtype: int64"
      ]
     },
     "execution_count": 128,
     "metadata": {},
     "output_type": "execute_result"
    }
   ],
   "source": [
    "n_samples = df2.y.value_counts()[0]\n",
    "df2.y.value_counts()"
   ]
  },
  {
   "cell_type": "code",
   "execution_count": 129,
   "id": "157ecbe6",
   "metadata": {},
   "outputs": [],
   "source": [
    "from sklearn.utils import resample\n",
    "#create two different dataframe of majority and minority class \n",
    "df_majority = df2[(df2['y']==0)] \n",
    "df_minority = df2[(df2['y']==1)] \n",
    "# upsample minority class\n",
    "n_samples = df2.y.value_counts()[0]\n",
    "df_minority_upsampled = resample(df_minority, \n",
    "                                 replace=True,    # sample with replacement\n",
    "                                 n_samples= n_samples, # to match majority class\n",
    "                                 random_state=42)  # reproducible results\n",
    "# Combine majority class with upsampled minority class\n",
    "df_upsampled = pd.concat([df_minority_upsampled, df_majority])"
   ]
  },
  {
   "cell_type": "code",
   "execution_count": 130,
   "id": "77cd03f2",
   "metadata": {},
   "outputs": [
    {
     "data": {
      "text/plain": [
       "<AxesSubplot:xlabel='y', ylabel='count'>"
      ]
     },
     "execution_count": 130,
     "metadata": {},
     "output_type": "execute_result"
    },
    {
     "data": {
      "image/png": "[encoded data removed]",
      "text/plain": [
       "<Figure size 576x396 with 1 Axes>"
      ]
     },
     "metadata": {},
     "output_type": "display_data"
    }
   ],
   "source": [
    "sns.countplot(df_upsampled['y'])"
   ]
  },
  {
   "cell_type": "code",
   "execution_count": 131,
   "id": "48684ea5",
   "metadata": {},
   "outputs": [],
   "source": [
    "target = df_upsampled.y\n",
    "X = df_upsampled.drop(columns='y')\n",
    "\n",
    "# split the dataset into training and testing sets\n",
    "X_train, X_test, y_train, y_test = train_test_split(X, target, test_size=0.33, random_state=42)"
   ]
  },
  {
   "cell_type": "markdown",
   "id": "342229cc",
   "metadata": {},
   "source": [
    "MODEL REVIEW\n",
    "Let's look at which model performs the best based on our current feature engineering.\n",
    "\n",
    "Because, the bank would like to determine the number of customers that will subscribe to a term market deposit, we want to look at the recall metric for our positive class.\n",
    "\n",
    "Recall measures how many positive classes (subscribed customers) are predicted correctly divided by the total number of subscribed users predicted correctly and incorrectly.\n",
    "\n",
    "We want to maximize the number of users predicted correctly to optimize the company's profit."
   ]
  },
  {
   "cell_type": "code",
   "execution_count": 132,
   "id": "b036e1da",
   "metadata": {},
   "outputs": [],
   "source": [
    "def get_best_model(data):\n",
    "    \n",
    "    clf = setup(data, target = data.columns[-1], silent = True, verbose = False)\n",
    "    #compare the models\n",
    "    top5 = compare_models(n_select = 3) \n",
    "    #find the best model\n",
    "    best = automl(optimize = 'Accuracy')\n",
    "\n",
    "    print(best)\n",
    "    \n",
    "    return None"
   ]
  },
  {
   "cell_type": "code",
   "execution_count": 133,
   "id": "632f6dff",
   "metadata": {},
   "outputs": [
    {
     "data": {
      "text/html": [
       "<style  type=\"text/css\" >\n",
       "    #T_010ed_ th {\n",
       "          text-align: left;\n",
       "    }#T_010ed_row0_col0,#T_010ed_row0_col2,#T_010ed_row1_col0,#T_010ed_row1_col3,#T_010ed_row1_col5,#T_010ed_row1_col6,#T_010ed_row1_col7,#T_010ed_row2_col0,#T_010ed_row2_col1,#T_010ed_row2_col2,#T_010ed_row2_col3,#T_010ed_row2_col5,#T_010ed_row2_col6,#T_010ed_row2_col7,#T_010ed_row3_col0,#T_010ed_row3_col1,#T_010ed_row3_col2,#T_010ed_row3_col3,#T_010ed_row3_col4,#T_010ed_row3_col5,#T_010ed_row3_col6,#T_010ed_row3_col7,#T_010ed_row4_col0,#T_010ed_row4_col1,#T_010ed_row4_col2,#T_010ed_row4_col3,#T_010ed_row4_col4,#T_010ed_row4_col5,#T_010ed_row4_col6,#T_010ed_row4_col7,#T_010ed_row5_col0,#T_010ed_row5_col1,#T_010ed_row5_col2,#T_010ed_row5_col3,#T_010ed_row5_col4,#T_010ed_row5_col5,#T_010ed_row5_col6,#T_010ed_row5_col7,#T_010ed_row6_col0,#T_010ed_row6_col1,#T_010ed_row6_col2,#T_010ed_row6_col3,#T_010ed_row6_col4,#T_010ed_row6_col5,#T_010ed_row6_col6,#T_010ed_row6_col7,#T_010ed_row7_col0,#T_010ed_row7_col1,#T_010ed_row7_col2,#T_010ed_row7_col3,#T_010ed_row7_col4,#T_010ed_row7_col5,#T_010ed_row7_col6,#T_010ed_row7_col7,#T_010ed_row8_col0,#T_010ed_row8_col1,#T_010ed_row8_col2,#T_010ed_row8_col3,#T_010ed_row8_col4,#T_010ed_row8_col5,#T_010ed_row8_col6,#T_010ed_row8_col7,#T_010ed_row9_col0,#T_010ed_row9_col1,#T_010ed_row9_col2,#T_010ed_row9_col3,#T_010ed_row9_col4,#T_010ed_row9_col5,#T_010ed_row9_col6,#T_010ed_row9_col7,#T_010ed_row10_col0,#T_010ed_row10_col1,#T_010ed_row10_col2,#T_010ed_row10_col3,#T_010ed_row10_col4,#T_010ed_row10_col5,#T_010ed_row10_col6,#T_010ed_row10_col7,#T_010ed_row11_col0,#T_010ed_row11_col1,#T_010ed_row11_col2,#T_010ed_row11_col3,#T_010ed_row11_col4,#T_010ed_row11_col5,#T_010ed_row11_col6,#T_010ed_row11_col7,#T_010ed_row12_col0,#T_010ed_row12_col1,#T_010ed_row12_col2,#T_010ed_row12_col3,#T_010ed_row12_col4,#T_010ed_row12_col5,#T_010ed_row12_col6,#T_010ed_row12_col7,#T_010ed_row13_col0,#T_010ed_row13_col1,#T_010ed_row13_col2,#T_010ed_row13_col3,#T_010ed_row13_col4,#T_010ed_row13_col5,#T_010ed_row13_col6,#T_010ed_row13_col7,#T_010ed_row14_col0,#T_010ed_row14_col1,#T_010ed_row14_col2,#T_010ed_row14_col3,#T_010ed_row14_col4,#T_010ed_row14_col5,#T_010ed_row14_col6,#T_010ed_row14_col7{\n",
       "            text-align:  left;\n",
       "            text-align:  left;\n",
       "        }#T_010ed_row0_col1,#T_010ed_row0_col3,#T_010ed_row0_col4,#T_010ed_row0_col5,#T_010ed_row0_col6,#T_010ed_row0_col7,#T_010ed_row1_col1,#T_010ed_row1_col2,#T_010ed_row1_col4,#T_010ed_row2_col4{\n",
       "            text-align:  left;\n",
       "            text-align:  left;\n",
       "            background-color:  yellow;\n",
       "        }#T_010ed_row0_col8,#T_010ed_row1_col8,#T_010ed_row2_col8,#T_010ed_row3_col8,#T_010ed_row5_col8,#T_010ed_row6_col8,#T_010ed_row7_col8,#T_010ed_row8_col8,#T_010ed_row9_col8,#T_010ed_row10_col8,#T_010ed_row11_col8,#T_010ed_row12_col8,#T_010ed_row13_col8,#T_010ed_row14_col8{\n",
       "            text-align:  left;\n",
       "            text-align:  left;\n",
       "            background-color:  lightgrey;\n",
       "        }#T_010ed_row4_col8{\n",
       "            text-align:  left;\n",
       "            text-align:  left;\n",
       "            background-color:  yellow;\n",
       "            background-color:  lightgrey;\n",
       "        }</style><table id=\"T_010ed_\" ><thead>    <tr>        <th class=\"blank level0\" ></th>        <th class=\"col_heading level0 col0\" >Model</th>        <th class=\"col_heading level0 col1\" >Accuracy</th>        <th class=\"col_heading level0 col2\" >AUC</th>        <th class=\"col_heading level0 col3\" >Recall</th>        <th class=\"col_heading level0 col4\" >Prec.</th>        <th class=\"col_heading level0 col5\" >F1</th>        <th class=\"col_heading level0 col6\" >Kappa</th>        <th class=\"col_heading level0 col7\" >MCC</th>        <th class=\"col_heading level0 col8\" >TT (Sec)</th>    </tr></thead><tbody>\n",
       "                <tr>\n",
       "                        <th id=\"T_010ed_level0_row0\" class=\"row_heading level0 row0\" >ridge</th>\n",
       "                        <td id=\"T_010ed_row0_col0\" class=\"data row0 col0\" >Ridge Classifier</td>\n",
       "                        <td id=\"T_010ed_row0_col1\" class=\"data row0 col1\" >1.0000</td>\n",
       "                        <td id=\"T_010ed_row0_col2\" class=\"data row0 col2\" >0.0000</td>\n",
       "                        <td id=\"T_010ed_row0_col3\" class=\"data row0 col3\" >1.0000</td>\n",
       "                        <td id=\"T_010ed_row0_col4\" class=\"data row0 col4\" >1.0000</td>\n",
       "                        <td id=\"T_010ed_row0_col5\" class=\"data row0 col5\" >1.0000</td>\n",
       "                        <td id=\"T_010ed_row0_col6\" class=\"data row0 col6\" >1.0000</td>\n",
       "                        <td id=\"T_010ed_row0_col7\" class=\"data row0 col7\" >1.0000</td>\n",
       "                        <td id=\"T_010ed_row0_col8\" class=\"data row0 col8\" >0.0310</td>\n",
       "            </tr>\n",
       "            <tr>\n",
       "                        <th id=\"T_010ed_level0_row1\" class=\"row_heading level0 row1\" >ada</th>\n",
       "                        <td id=\"T_010ed_row1_col0\" class=\"data row1 col0\" >Ada Boost Classifier</td>\n",
       "                        <td id=\"T_010ed_row1_col1\" class=\"data row1 col1\" >1.0000</td>\n",
       "                        <td id=\"T_010ed_row1_col2\" class=\"data row1 col2\" >1.0000</td>\n",
       "                        <td id=\"T_010ed_row1_col3\" class=\"data row1 col3\" >0.9833</td>\n",
       "                        <td id=\"T_010ed_row1_col4\" class=\"data row1 col4\" >1.0000</td>\n",
       "                        <td id=\"T_010ed_row1_col5\" class=\"data row1 col5\" >0.9909</td>\n",
       "                        <td id=\"T_010ed_row1_col6\" class=\"data row1 col6\" >0.9909</td>\n",
       "                        <td id=\"T_010ed_row1_col7\" class=\"data row1 col7\" >0.9913</td>\n",
       "                        <td id=\"T_010ed_row1_col8\" class=\"data row1 col8\" >0.3500</td>\n",
       "            </tr>\n",
       "            <tr>\n",
       "                        <th id=\"T_010ed_level0_row2\" class=\"row_heading level0 row2\" >qda</th>\n",
       "                        <td id=\"T_010ed_row2_col0\" class=\"data row2 col0\" >Quadratic Discriminant Analysis</td>\n",
       "                        <td id=\"T_010ed_row2_col1\" class=\"data row2 col1\" >0.9999</td>\n",
       "                        <td id=\"T_010ed_row2_col2\" class=\"data row2 col2\" >0.9667</td>\n",
       "                        <td id=\"T_010ed_row2_col3\" class=\"data row2 col3\" >0.9333</td>\n",
       "                        <td id=\"T_010ed_row2_col4\" class=\"data row2 col4\" >1.0000</td>\n",
       "                        <td id=\"T_010ed_row2_col5\" class=\"data row2 col5\" >0.9618</td>\n",
       "                        <td id=\"T_010ed_row2_col6\" class=\"data row2 col6\" >0.9617</td>\n",
       "                        <td id=\"T_010ed_row2_col7\" class=\"data row2 col7\" >0.9642</td>\n",
       "                        <td id=\"T_010ed_row2_col8\" class=\"data row2 col8\" >0.0550</td>\n",
       "            </tr>\n",
       "            <tr>\n",
       "                        <th id=\"T_010ed_level0_row3\" class=\"row_heading level0 row3\" >catboost</th>\n",
       "                        <td id=\"T_010ed_row3_col0\" class=\"data row3 col0\" >CatBoost Classifier</td>\n",
       "                        <td id=\"T_010ed_row3_col1\" class=\"data row3 col1\" >0.9995</td>\n",
       "                        <td id=\"T_010ed_row3_col2\" class=\"data row3 col2\" >0.9975</td>\n",
       "                        <td id=\"T_010ed_row3_col3\" class=\"data row3 col3\" >0.8667</td>\n",
       "                        <td id=\"T_010ed_row3_col4\" class=\"data row3 col4\" >0.9357</td>\n",
       "                        <td id=\"T_010ed_row3_col5\" class=\"data row3 col5\" >0.8856</td>\n",
       "                        <td id=\"T_010ed_row3_col6\" class=\"data row3 col6\" >0.8853</td>\n",
       "                        <td id=\"T_010ed_row3_col7\" class=\"data row3 col7\" >0.8931</td>\n",
       "                        <td id=\"T_010ed_row3_col8\" class=\"data row3 col8\" >4.1850</td>\n",
       "            </tr>\n",
       "            <tr>\n",
       "                        <th id=\"T_010ed_level0_row4\" class=\"row_heading level0 row4\" >nb</th>\n",
       "                        <td id=\"T_010ed_row4_col0\" class=\"data row4 col0\" >Naive Bayes</td>\n",
       "                        <td id=\"T_010ed_row4_col1\" class=\"data row4 col1\" >0.9993</td>\n",
       "                        <td id=\"T_010ed_row4_col2\" class=\"data row4 col2\" >0.9996</td>\n",
       "                        <td id=\"T_010ed_row4_col3\" class=\"data row4 col3\" >0.9333</td>\n",
       "                        <td id=\"T_010ed_row4_col4\" class=\"data row4 col4\" >0.8205</td>\n",
       "                        <td id=\"T_010ed_row4_col5\" class=\"data row4 col5\" >0.8620</td>\n",
       "                        <td id=\"T_010ed_row4_col6\" class=\"data row4 col6\" >0.8617</td>\n",
       "                        <td id=\"T_010ed_row4_col7\" class=\"data row4 col7\" >0.8690</td>\n",
       "                        <td id=\"T_010ed_row4_col8\" class=\"data row4 col8\" >0.0250</td>\n",
       "            </tr>\n",
       "            <tr>\n",
       "                        <th id=\"T_010ed_level0_row5\" class=\"row_heading level0 row5\" >dt</th>\n",
       "                        <td id=\"T_010ed_row5_col0\" class=\"data row5 col0\" >Decision Tree Classifier</td>\n",
       "                        <td id=\"T_010ed_row5_col1\" class=\"data row5 col1\" >0.9992</td>\n",
       "                        <td id=\"T_010ed_row5_col2\" class=\"data row5 col2\" >0.9165</td>\n",
       "                        <td id=\"T_010ed_row5_col3\" class=\"data row5 col3\" >0.8333</td>\n",
       "                        <td id=\"T_010ed_row5_col4\" class=\"data row5 col4\" >0.8374</td>\n",
       "                        <td id=\"T_010ed_row5_col5\" class=\"data row5 col5\" >0.8182</td>\n",
       "                        <td id=\"T_010ed_row5_col6\" class=\"data row5 col6\" >0.8178</td>\n",
       "                        <td id=\"T_010ed_row5_col7\" class=\"data row5 col7\" >0.8262</td>\n",
       "                        <td id=\"T_010ed_row5_col8\" class=\"data row5 col8\" >0.0300</td>\n",
       "            </tr>\n",
       "            <tr>\n",
       "                        <th id=\"T_010ed_level0_row6\" class=\"row_heading level0 row6\" >et</th>\n",
       "                        <td id=\"T_010ed_row6_col0\" class=\"data row6 col0\" >Extra Trees Classifier</td>\n",
       "                        <td id=\"T_010ed_row6_col1\" class=\"data row6 col1\" >0.9992</td>\n",
       "                        <td id=\"T_010ed_row6_col2\" class=\"data row6 col2\" >0.9914</td>\n",
       "                        <td id=\"T_010ed_row6_col3\" class=\"data row6 col3\" >0.6667</td>\n",
       "                        <td id=\"T_010ed_row6_col4\" class=\"data row6 col4\" >0.9633</td>\n",
       "                        <td id=\"T_010ed_row6_col5\" class=\"data row6 col5\" >0.7703</td>\n",
       "                        <td id=\"T_010ed_row6_col6\" class=\"data row6 col6\" >0.7699</td>\n",
       "                        <td id=\"T_010ed_row6_col7\" class=\"data row6 col7\" >0.7914</td>\n",
       "                        <td id=\"T_010ed_row6_col8\" class=\"data row6 col8\" >0.3170</td>\n",
       "            </tr>\n",
       "            <tr>\n",
       "                        <th id=\"T_010ed_level0_row7\" class=\"row_heading level0 row7\" >lr</th>\n",
       "                        <td id=\"T_010ed_row7_col0\" class=\"data row7 col0\" >Logistic Regression</td>\n",
       "                        <td id=\"T_010ed_row7_col1\" class=\"data row7 col1\" >0.9991</td>\n",
       "                        <td id=\"T_010ed_row7_col2\" class=\"data row7 col2\" >0.9996</td>\n",
       "                        <td id=\"T_010ed_row7_col3\" class=\"data row7 col3\" >0.6167</td>\n",
       "                        <td id=\"T_010ed_row7_col4\" class=\"data row7 col4\" >0.9324</td>\n",
       "                        <td id=\"T_010ed_row7_col5\" class=\"data row7 col5\" >0.7237</td>\n",
       "                        <td id=\"T_010ed_row7_col6\" class=\"data row7 col6\" >0.7233</td>\n",
       "                        <td id=\"T_010ed_row7_col7\" class=\"data row7 col7\" >0.7478</td>\n",
       "                        <td id=\"T_010ed_row7_col8\" class=\"data row7 col8\" >1.1740</td>\n",
       "            </tr>\n",
       "            <tr>\n",
       "                        <th id=\"T_010ed_level0_row8\" class=\"row_heading level0 row8\" >xgboost</th>\n",
       "                        <td id=\"T_010ed_row8_col0\" class=\"data row8 col0\" >Extreme Gradient Boosting</td>\n",
       "                        <td id=\"T_010ed_row8_col1\" class=\"data row8 col1\" >0.9990</td>\n",
       "                        <td id=\"T_010ed_row8_col2\" class=\"data row8 col2\" >0.9947</td>\n",
       "                        <td id=\"T_010ed_row8_col3\" class=\"data row8 col3\" >0.6667</td>\n",
       "                        <td id=\"T_010ed_row8_col4\" class=\"data row8 col4\" >0.8848</td>\n",
       "                        <td id=\"T_010ed_row8_col5\" class=\"data row8 col5\" >0.7472</td>\n",
       "                        <td id=\"T_010ed_row8_col6\" class=\"data row8 col6\" >0.7468</td>\n",
       "                        <td id=\"T_010ed_row8_col7\" class=\"data row8 col7\" >0.7607</td>\n",
       "                        <td id=\"T_010ed_row8_col8\" class=\"data row8 col8\" >1.0600</td>\n",
       "            </tr>\n",
       "            <tr>\n",
       "                        <th id=\"T_010ed_level0_row9\" class=\"row_heading level0 row9\" >gbc</th>\n",
       "                        <td id=\"T_010ed_row9_col0\" class=\"data row9 col0\" >Gradient Boosting Classifier</td>\n",
       "                        <td id=\"T_010ed_row9_col1\" class=\"data row9 col1\" >0.9989</td>\n",
       "                        <td id=\"T_010ed_row9_col2\" class=\"data row9 col2\" >0.9978</td>\n",
       "                        <td id=\"T_010ed_row9_col3\" class=\"data row9 col3\" >0.6500</td>\n",
       "                        <td id=\"T_010ed_row9_col4\" class=\"data row9 col4\" >0.8526</td>\n",
       "                        <td id=\"T_010ed_row9_col5\" class=\"data row9 col5\" >0.7005</td>\n",
       "                        <td id=\"T_010ed_row9_col6\" class=\"data row9 col6\" >0.7000</td>\n",
       "                        <td id=\"T_010ed_row9_col7\" class=\"data row9 col7\" >0.7244</td>\n",
       "                        <td id=\"T_010ed_row9_col8\" class=\"data row9 col8\" >1.2280</td>\n",
       "            </tr>\n",
       "            <tr>\n",
       "                        <th id=\"T_010ed_level0_row10\" class=\"row_heading level0 row10\" >rf</th>\n",
       "                        <td id=\"T_010ed_row10_col0\" class=\"data row10 col0\" >Random Forest Classifier</td>\n",
       "                        <td id=\"T_010ed_row10_col1\" class=\"data row10 col1\" >0.9987</td>\n",
       "                        <td id=\"T_010ed_row10_col2\" class=\"data row10 col2\" >0.9995</td>\n",
       "                        <td id=\"T_010ed_row10_col3\" class=\"data row10 col3\" >0.4167</td>\n",
       "                        <td id=\"T_010ed_row10_col4\" class=\"data row10 col4\" >0.9800</td>\n",
       "                        <td id=\"T_010ed_row10_col5\" class=\"data row10 col5\" >0.5541</td>\n",
       "                        <td id=\"T_010ed_row10_col6\" class=\"data row10 col6\" >0.5536</td>\n",
       "                        <td id=\"T_010ed_row10_col7\" class=\"data row10 col7\" >0.6179</td>\n",
       "                        <td id=\"T_010ed_row10_col8\" class=\"data row10 col8\" >0.3870</td>\n",
       "            </tr>\n",
       "            <tr>\n",
       "                        <th id=\"T_010ed_level0_row11\" class=\"row_heading level0 row11\" >knn</th>\n",
       "                        <td id=\"T_010ed_row11_col0\" class=\"data row11 col0\" >K Neighbors Classifier</td>\n",
       "                        <td id=\"T_010ed_row11_col1\" class=\"data row11 col1\" >0.9979</td>\n",
       "                        <td id=\"T_010ed_row11_col2\" class=\"data row11 col2\" >0.4953</td>\n",
       "                        <td id=\"T_010ed_row11_col3\" class=\"data row11 col3\" >0.0000</td>\n",
       "                        <td id=\"T_010ed_row11_col4\" class=\"data row11 col4\" >0.0000</td>\n",
       "                        <td id=\"T_010ed_row11_col5\" class=\"data row11 col5\" >0.0000</td>\n",
       "                        <td id=\"T_010ed_row11_col6\" class=\"data row11 col6\" >0.0000</td>\n",
       "                        <td id=\"T_010ed_row11_col7\" class=\"data row11 col7\" >0.0000</td>\n",
       "                        <td id=\"T_010ed_row11_col8\" class=\"data row11 col8\" >0.1870</td>\n",
       "            </tr>\n",
       "            <tr>\n",
       "                        <th id=\"T_010ed_level0_row12\" class=\"row_heading level0 row12\" >lightgbm</th>\n",
       "                        <td id=\"T_010ed_row12_col0\" class=\"data row12 col0\" >Light Gradient Boosting Machine</td>\n",
       "                        <td id=\"T_010ed_row12_col1\" class=\"data row12 col1\" >0.9972</td>\n",
       "                        <td id=\"T_010ed_row12_col2\" class=\"data row12 col2\" >0.8668</td>\n",
       "                        <td id=\"T_010ed_row12_col3\" class=\"data row12 col3\" >0.7333</td>\n",
       "                        <td id=\"T_010ed_row12_col4\" class=\"data row12 col4\" >0.5700</td>\n",
       "                        <td id=\"T_010ed_row12_col5\" class=\"data row12 col5\" >0.6029</td>\n",
       "                        <td id=\"T_010ed_row12_col6\" class=\"data row12 col6\" >0.6018</td>\n",
       "                        <td id=\"T_010ed_row12_col7\" class=\"data row12 col7\" >0.6242</td>\n",
       "                        <td id=\"T_010ed_row12_col8\" class=\"data row12 col8\" >0.5660</td>\n",
       "            </tr>\n",
       "            <tr>\n",
       "                        <th id=\"T_010ed_level0_row13\" class=\"row_heading level0 row13\" >lda</th>\n",
       "                        <td id=\"T_010ed_row13_col0\" class=\"data row13 col0\" >Linear Discriminant Analysis</td>\n",
       "                        <td id=\"T_010ed_row13_col1\" class=\"data row13 col1\" >0.9937</td>\n",
       "                        <td id=\"T_010ed_row13_col2\" class=\"data row13 col2\" >0.9939</td>\n",
       "                        <td id=\"T_010ed_row13_col3\" class=\"data row13 col3\" >0.8500</td>\n",
       "                        <td id=\"T_010ed_row13_col4\" class=\"data row13 col4\" >0.2416</td>\n",
       "                        <td id=\"T_010ed_row13_col5\" class=\"data row13 col5\" >0.3741</td>\n",
       "                        <td id=\"T_010ed_row13_col6\" class=\"data row13 col6\" >0.3720</td>\n",
       "                        <td id=\"T_010ed_row13_col7\" class=\"data row13 col7\" >0.4494</td>\n",
       "                        <td id=\"T_010ed_row13_col8\" class=\"data row13 col8\" >0.0770</td>\n",
       "            </tr>\n",
       "            <tr>\n",
       "                        <th id=\"T_010ed_level0_row14\" class=\"row_heading level0 row14\" >svm</th>\n",
       "                        <td id=\"T_010ed_row14_col0\" class=\"data row14 col0\" >SVM - Linear Kernel</td>\n",
       "                        <td id=\"T_010ed_row14_col1\" class=\"data row14 col1\" >0.9900</td>\n",
       "                        <td id=\"T_010ed_row14_col2\" class=\"data row14 col2\" >0.0000</td>\n",
       "                        <td id=\"T_010ed_row14_col3\" class=\"data row14 col3\" >0.0000</td>\n",
       "                        <td id=\"T_010ed_row14_col4\" class=\"data row14 col4\" >0.0000</td>\n",
       "                        <td id=\"T_010ed_row14_col5\" class=\"data row14 col5\" >0.0000</td>\n",
       "                        <td id=\"T_010ed_row14_col6\" class=\"data row14 col6\" >-0.0016</td>\n",
       "                        <td id=\"T_010ed_row14_col7\" class=\"data row14 col7\" >-0.0027</td>\n",
       "                        <td id=\"T_010ed_row14_col8\" class=\"data row14 col8\" >0.0680</td>\n",
       "            </tr>\n",
       "    </tbody></table>"
      ],
      "text/plain": [
       "<pandas.io.formats.style.Styler at 0x1d40162c708>"
      ]
     },
     "metadata": {},
     "output_type": "display_data"
    },
    {
     "name": "stdout",
     "output_type": "stream",
     "text": [
      "RidgeClassifier(alpha=1.0, class_weight=None, copy_X=True, fit_intercept=True,\n",
      "                max_iter=None, normalize=False, random_state=1974,\n",
      "                solver='auto', tol=0.001)\n"
     ]
    }
   ],
   "source": [
    "get_best_model(df2)"
   ]
  },
  {
   "cell_type": "markdown",
   "id": "b7b6678c",
   "metadata": {},
   "source": [
    "# Modeling"
   ]
  },
  {
   "cell_type": "code",
   "execution_count": 134,
   "id": "549a4d4e",
   "metadata": {},
   "outputs": [],
   "source": [
    "def evaluate_model(classifier):\n",
    "    \n",
    "    clf = classifier\n",
    "    clf.fit(X_train,y_train)\n",
    "    y_pr = clf.predict(X_test)\n",
    "    \n",
    "    # use 5-fold cross validation for average scores\n",
    "    cv_score = cross_val_score(clf, X=X_train, y=y_train, cv=5)\n",
    "    score = clf.score(X_train, y_train)\n",
    "    accuracy = accuracy_score(y_test, y_pr)\n",
    "    \n",
    "    print(f'5-CV Scores: {cv_score}\\nAverage 5-CV score: {cv_score.mean()}')    \n",
    "    print(f'Train score: {score}\\nTest accuracy: {accuracy}\\nDifference: {score - accuracy}')\n",
    "    \n",
    "    return clf, y_pr\n",
    "\n",
    "def plot_confusion_matrix(test, pred, title):\n",
    "\n",
    "    cm = confusion_matrix(test, pred)\n",
    "    df_cm = pd.DataFrame(cm)\n",
    "    plt.figure(figsize=(10, 5))\n",
    "    sns.heatmap(df_cm, annot=True, cmap='Blues', fmt='')\n",
    "    plt.xlabel(\"Predicted labels\")\n",
    "    plt.ylabel(\"True labels\")\n",
    "    plt.title(f'{title} Confusion Matrix')\n",
    "\n",
    "    return None\n",
    "\n",
    "def plot_roc_auc(model):\n",
    "    \n",
    "    plt.figure(figsize=(15,10))\n",
    "    # get the probabilities\n",
    "    model_prob = model.predict_proba(X_test)[:,1]\n",
    "    fpr, tpr, threshold = roc_curve(y_test, model_prob)\n",
    "    plt.plot(fpr, tpr, color = 'green')\n",
    "    plt.plot([0,1], [0, 1], color='blue')\n",
    "    plt.xlabel('False Positive Rate')\n",
    "    plt.ylabel('True Positive Rate')\n",
    "    \n",
    "    plt.show()"
   ]
  },
  {
   "cell_type": "code",
   "execution_count": 135,
   "id": "4bebb8d8",
   "metadata": {},
   "outputs": [],
   "source": [
    "def get_model_info(model, title):\n",
    "    \n",
    "    # evaluate model\n",
    "    clf, y_pr = evaluate_model(model)\n",
    "    # get classification report\n",
    "    cr = classification_report(y_test, y_pr)\n",
    "    print(f'\\n{title.title()} Classification Report\\n\\n{cr}')\n",
    "    # plot confusion matrix\n",
    "    plot_confusion_matrix(y_test, y_pr, title.title())\n",
    "    # plot roc auc curve\n",
    "    plot_roc_auc(clf)\n",
    "    \n",
    "    return clf"
   ]
  },
  {
   "cell_type": "markdown",
   "id": "fc911839",
   "metadata": {},
   "source": [
    "### Logistic Regression"
   ]
  },
  {
   "cell_type": "code",
   "execution_count": 136,
   "id": "a6277ee1",
   "metadata": {},
   "outputs": [
    {
     "name": "stdout",
     "output_type": "stream",
     "text": [
      "5-CV Scores: [0.81918745 0.82974658 0.81858407 0.84261866 0.81896812]\n",
      "Average 5-CV score: 0.8258209768326281\n",
      "Train score: 0.8395985438162473\n",
      "Test accuracy: 0.8410306668300053\n",
      "Difference: -0.0014321230137579466\n",
      "\n",
      "Logistic Regression Classification Report\n",
      "\n",
      "              precision    recall  f1-score   support\n",
      "\n",
      "           0       0.84      0.85      0.84     12252\n",
      "           1       0.84      0.84      0.84     12237\n",
      "\n",
      "    accuracy                           0.84     24489\n",
      "   macro avg       0.84      0.84      0.84     24489\n",
      "weighted avg       0.84      0.84      0.84     24489\n",
      "\n"
     ]
    },
    {
     "data": {
      "image/png": "[encoded data removed]",
      "text/plain": [
       "<Figure size 720x360 with 2 Axes>"
      ]
     },
     "metadata": {},
     "output_type": "display_data"
    },
    {
     "data": {
      "image/png": "[encoded data removed]",
      "text/plain": [
       "<Figure size 1080x720 with 1 Axes>"
      ]
     },
     "metadata": {},
     "output_type": "display_data"
    },
    {
     "data": {
      "text/plain": [
       "LogisticRegression(C=1.0, class_weight=None, dual=False, fit_intercept=True,\n",
       "                   intercept_scaling=1, l1_ratio=None, max_iter=100,\n",
       "                   multi_class='auto', n_jobs=None, penalty='l2',\n",
       "                   random_state=None, solver='lbfgs', tol=0.0001, verbose=0,\n",
       "                   warm_start=False)"
      ]
     },
     "execution_count": 136,
     "metadata": {},
     "output_type": "execute_result"
    }
   ],
   "source": [
    "lr = LogisticRegression()\n",
    "get_model_info(lr, 'Logistic Regression')"
   ]
  },
  {
   "cell_type": "code",
   "execution_count": null,
   "id": "191bad93",
   "metadata": {},
   "outputs": [],
   "source": []
  },
  {
   "cell_type": "code",
   "execution_count": null,
   "id": "f7fd857c",
   "metadata": {},
   "outputs": [],
   "source": []
  },
  {
   "cell_type": "markdown",
   "id": "fe55e21a",
   "metadata": {},
   "source": [
    "### ADA Boost"
   ]
  },
  {
   "cell_type": "code",
   "execution_count": 137,
   "id": "46dc5e6f",
   "metadata": {},
   "outputs": [
    {
     "name": "stdout",
     "output_type": "stream",
     "text": [
      "5-CV Scores: [0.85669751 0.86796058 0.85961384 0.86283186 0.85406819]\n",
      "Average 5-CV score: 0.8602343939700056\n",
      "Train score: 0.8598724833564633\n",
      "Test accuracy: 0.8614888317203643\n",
      "Difference: -0.0016163483639010101\n",
      "\n",
      "Adaboost Classifier Classification Report\n",
      "\n",
      "              precision    recall  f1-score   support\n",
      "\n",
      "           0       0.86      0.86      0.86     12252\n",
      "           1       0.86      0.86      0.86     12237\n",
      "\n",
      "    accuracy                           0.86     24489\n",
      "   macro avg       0.86      0.86      0.86     24489\n",
      "weighted avg       0.86      0.86      0.86     24489\n",
      "\n"
     ]
    },
    {
     "data": {
      "image/png": "[encoded data removed]",
      "text/plain": [
       "<Figure size 720x360 with 2 Axes>"
      ]
     },
     "metadata": {},
     "output_type": "display_data"
    },
    {
     "data": {
      "image/png": "[encoded data removed]",
      "text/plain": [
       "<Figure size 1080x720 with 1 Axes>"
      ]
     },
     "metadata": {},
     "output_type": "display_data"
    },
    {
     "data": {
      "text/plain": [
       "AdaBoostClassifier(algorithm='SAMME.R', base_estimator=None, learning_rate=1.0,\n",
       "                   n_estimators=50, random_state=None)"
      ]
     },
     "execution_count": 137,
     "metadata": {},
     "output_type": "execute_result"
    }
   ],
   "source": [
    "ada = AdaBoostClassifier()\n",
    "get_model_info(ada, 'AdaBoost Classifier')"
   ]
  },
  {
   "cell_type": "markdown",
   "id": "d5808b0b",
   "metadata": {},
   "source": [
    "### LDA"
   ]
  },
  {
   "cell_type": "code",
   "execution_count": 138,
   "id": "07e6c061",
   "metadata": {},
   "outputs": [
    {
     "name": "stdout",
     "output_type": "stream",
     "text": [
      "5-CV Scores: [0.82793644 0.84000402 0.83286404 0.83698713 0.8314392 ]\n",
      "Average 5-CV score: 0.8338461673210672\n",
      "Train score: 0.8335847462740602\n",
      "Test accuracy: 0.8336395932867818\n",
      "Difference: -5.4847012721626065e-05\n",
      "\n",
      "Linear Discriminant Analysis Classification Report\n",
      "\n",
      "              precision    recall  f1-score   support\n",
      "\n",
      "           0       0.80      0.89      0.84     12252\n",
      "           1       0.87      0.78      0.82     12237\n",
      "\n",
      "    accuracy                           0.83     24489\n",
      "   macro avg       0.84      0.83      0.83     24489\n",
      "weighted avg       0.84      0.83      0.83     24489\n",
      "\n"
     ]
    },
    {
     "data": {
      "image/png": "[encoded data removed]",
      "text/plain": [
       "<Figure size 720x360 with 2 Axes>"
      ]
     },
     "metadata": {},
     "output_type": "display_data"
    },
    {
     "data": {
      "image/png": "[encoded data removed]",
      "text/plain": [
       "<Figure size 1080x720 with 1 Axes>"
      ]
     },
     "metadata": {},
     "output_type": "display_data"
    },
    {
     "data": {
      "text/plain": [
       "LinearDiscriminantAnalysis(n_components=None, priors=None, shrinkage=None,\n",
       "                           solver='svd', store_covariance=False, tol=0.0001)"
      ]
     },
     "execution_count": 138,
     "metadata": {},
     "output_type": "execute_result"
    }
   ],
   "source": [
    "lda = LinearDiscriminantAnalysis()\n",
    "get_model_info(lda, 'Linear Discriminant Analysis')"
   ]
  },
  {
   "cell_type": "markdown",
   "id": "abb437fd",
   "metadata": {},
   "source": [
    "### Ridge Classifier"
   ]
  },
  {
   "cell_type": "code",
   "execution_count": 139,
   "id": "267eb82e",
   "metadata": {},
   "outputs": [
    {
     "name": "stdout",
     "output_type": "stream",
     "text": [
      "Score:  0.8336048593093184\n"
     ]
    }
   ],
   "source": [
    "rc = RidgeClassifier()\n",
    "rc.fit(X_train,y_train)\n",
    "score = rc.score(X_train,y_train)\n",
    "print(\"Score: \", score)"
   ]
  },
  {
   "cell_type": "code",
   "execution_count": 140,
   "id": "4c26096f",
   "metadata": {},
   "outputs": [
    {
     "name": "stdout",
     "output_type": "stream",
     "text": [
      "CV average score: 0.83\n"
     ]
    }
   ],
   "source": [
    "cv_scores = cross_val_score(rc, X_train,y_train, cv=10)\n",
    "print(\"CV average score: %.2f\" % cv_scores.mean())\n",
    "\n"
   ]
  },
  {
   "cell_type": "code",
   "execution_count": 141,
   "id": "4ff4cbe4",
   "metadata": {},
   "outputs": [
    {
     "data": {
      "text/plain": [
       "Text(0.5, 1.0, ' Confuson Matrix')"
      ]
     },
     "execution_count": 141,
     "metadata": {},
     "output_type": "execute_result"
    },
    {
     "data": {
      "image/png": "[encoded data removed]",
      "text/plain": [
       "<Figure size 720x360 with 2 Axes>"
      ]
     },
     "metadata": {},
     "output_type": "display_data"
    }
   ],
   "source": [
    "ypred = rc.predict(X_test)\n",
    "\n",
    "cm = confusion_matrix(y_test, ypred)\n",
    "df_cm = pd.DataFrame(cm)\n",
    "plt.figure(figsize=(10, 5))\n",
    "sns.heatmap(df_cm, annot=True, cmap='Blues', fmt='')\n",
    "plt.xlabel(\"Predicted labels\")\n",
    "plt.ylabel(\"True labels\")\n",
    "plt.title(' Confuson Matrix')"
   ]
  },
  {
   "cell_type": "code",
   "execution_count": 142,
   "id": "84e1885d",
   "metadata": {},
   "outputs": [
    {
     "name": "stdout",
     "output_type": "stream",
     "text": [
      "              precision    recall  f1-score   support\n",
      "\n",
      "           0       0.80      0.89      0.84     12252\n",
      "           1       0.87      0.78      0.82     12237\n",
      "\n",
      "    accuracy                           0.83     24489\n",
      "   macro avg       0.84      0.83      0.83     24489\n",
      "weighted avg       0.84      0.83      0.83     24489\n",
      "\n"
     ]
    }
   ],
   "source": [
    "cr = classification_report(y_test, ypred)\n",
    "print(cr)"
   ]
  },
  {
   "cell_type": "markdown",
   "id": "010d7205",
   "metadata": {},
   "source": [
    "### RANDOM FOREST"
   ]
  },
  {
   "cell_type": "code",
   "execution_count": 143,
   "id": "52c03c22",
   "metadata": {},
   "outputs": [
    {
     "name": "stdout",
     "output_type": "stream",
     "text": [
      "5-CV Scores: [0.97023331 0.9743564  0.97003218 0.97385358 0.96922458]\n",
      "Average 5-CV score: 0.9715400085394229\n",
      "Train score: 1.0\n",
      "Test accuracy: 0.9788068112213647\n",
      "Difference: 0.021193188778635297\n",
      "\n",
      "Random Forest Classification Report\n",
      "\n",
      "              precision    recall  f1-score   support\n",
      "\n",
      "           0       1.00      0.96      0.98     12252\n",
      "           1       0.96      1.00      0.98     12237\n",
      "\n",
      "    accuracy                           0.98     24489\n",
      "   macro avg       0.98      0.98      0.98     24489\n",
      "weighted avg       0.98      0.98      0.98     24489\n",
      "\n"
     ]
    },
    {
     "data": {
      "image/png": "[encoded data removed]",
      "text/plain": [
       "<Figure size 720x360 with 2 Axes>"
      ]
     },
     "metadata": {},
     "output_type": "display_data"
    },
    {
     "data": {
      "image/png": "[encoded data removed]",
      "text/plain": [
       "<Figure size 1080x720 with 1 Axes>"
      ]
     },
     "metadata": {},
     "output_type": "display_data"
    },
    {
     "data": {
      "text/plain": [
       "RandomForestClassifier(bootstrap=True, ccp_alpha=0.0, class_weight=None,\n",
       "                       criterion='gini', max_depth=None, max_features='auto',\n",
       "                       max_leaf_nodes=None, max_samples=None,\n",
       "                       min_impurity_decrease=0.0, min_impurity_split=None,\n",
       "                       min_samples_leaf=1, min_samples_split=2,\n",
       "                       min_weight_fraction_leaf=0.0, n_estimators=100,\n",
       "                       n_jobs=None, oob_score=False, random_state=None,\n",
       "                       verbose=0, warm_start=False)"
      ]
     },
     "execution_count": 143,
     "metadata": {},
     "output_type": "execute_result"
    }
   ],
   "source": [
    "rf = RandomForestClassifier()#n_estimators=200, criterion='gini', random_state=seed)\n",
    "get_model_info(rf, 'Random Forest')"
   ]
  },
  {
   "cell_type": "markdown",
   "id": "57d946e8",
   "metadata": {},
   "source": [
    "### EXTRA TREES"
   ]
  },
  {
   "cell_type": "code",
   "execution_count": 146,
   "id": "dbc5abf3",
   "metadata": {},
   "outputs": [
    {
     "name": "stdout",
     "output_type": "stream",
     "text": [
      "5-CV Scores: [0.98592116 0.98753017 0.98541834 0.98893805 0.98400885]\n",
      "Average 5-CV score: 0.9863633147395504\n",
      "Train score: 1.0\n",
      "Test accuracy: 0.989464657601372\n",
      "Difference: 0.010535342398627967\n",
      "\n",
      "Extra Trees Classification Report\n",
      "\n",
      "              precision    recall  f1-score   support\n",
      "\n",
      "           0       1.00      0.98      0.99     12252\n",
      "           1       0.98      1.00      0.99     12237\n",
      "\n",
      "    accuracy                           0.99     24489\n",
      "   macro avg       0.99      0.99      0.99     24489\n",
      "weighted avg       0.99      0.99      0.99     24489\n",
      "\n"
     ]
    },
    {
     "data": {
      "image/png": "[encoded data removed]",
      "text/plain": [
       "<Figure size 720x360 with 2 Axes>"
      ]
     },
     "metadata": {},
     "output_type": "display_data"
    },
    {
     "data": {
      "image/png": "[encoded data removed]",
      "text/plain": [
       "<Figure size 1080x720 with 1 Axes>"
      ]
     },
     "metadata": {},
     "output_type": "display_data"
    },
    {
     "data": {
      "text/plain": [
       "ExtraTreesClassifier(bootstrap=False, ccp_alpha=0.0, class_weight=None,\n",
       "                     criterion='gini', max_depth=None, max_features='auto',\n",
       "                     max_leaf_nodes=None, max_samples=None,\n",
       "                     min_impurity_decrease=0.0, min_impurity_split=None,\n",
       "                     min_samples_leaf=1, min_samples_split=2,\n",
       "                     min_weight_fraction_leaf=0.0, n_estimators=100,\n",
       "                     n_jobs=None, oob_score=False, random_state=None, verbose=0,\n",
       "                     warm_start=False)"
      ]
     },
     "execution_count": 146,
     "metadata": {},
     "output_type": "execute_result"
    }
   ],
   "source": [
    "# initialize classifier with best params\n",
    "et = ExtraTreesClassifier()#n_estimators=100, criterion='gini')\n",
    "get_model_info(et, 'Extra Trees')"
   ]
  },
  {
   "cell_type": "markdown",
   "id": "f1055bca",
   "metadata": {},
   "source": [
    "### Conclusion"
   ]
  },
  {
   "cell_type": "markdown",
   "id": "65b59b52",
   "metadata": {},
   "source": [
    "In conclusion, we will go ahead with ADA Boost claaisfier with 86 % accuracy and 86% recall, while maintaining an average 5-fold cross-validation score and F1-score  of 86% ."
   ]
  },
  {
   "cell_type": "code",
   "execution_count": 144,
   "id": "ca672742",
   "metadata": {},
   "outputs": [
    {
     "data": {
      "text/plain": [
       "[(0.4854532704498053, 'duration'),\n",
       " (0.07910746607164904, 'balance'),\n",
       " (0.07877342480451768, 'day'),\n",
       " (0.06856975932098482, 'age'),\n",
       " (0.03360735716948093, 'campaign'),\n",
       " (0.0300220184515142, 'month_apr'),\n",
       " (0.02321830203159254, 'month_mar'),\n",
       " (0.020644515561327244, 'housing'),\n",
       " (0.01600765026334494, 'month_feb'),\n",
       " (0.010061785036300222, 'month_jul'),\n",
       " (0.00944382906228354, 'month_may'),\n",
       " (0.008796745573412285, 'month_oct'),\n",
       " (0.008780975561317256, 'loan'),\n",
       " (0.008189071992753053, 'marital_married'),\n",
       " (0.007908312543061367, 'education_tertiary'),\n",
       " (0.007489460623123917, 'job_technician'),\n",
       " (0.007434324250633531, 'job_blue-collar'),\n",
       " (0.007150623854917453, 'education_secondary'),\n",
       " (0.006962460656183865, 'month_aug'),\n",
       " (0.006831994830088122, 'job_admin'),\n",
       " (0.0065736836704512625, 'job_management'),\n",
       " (0.006530309358392974, 'month_jun'),\n",
       " (0.006383077501691127, 'marital_single'),\n",
       " (0.0054735952513963035, 'education_primary'),\n",
       " (0.00533327407510862, 'job_services'),\n",
       " (0.005081450118088032, 'contact_telephone'),\n",
       " (0.0048731963648704305, 'month_nov'),\n",
       " (0.004787990124933597, 'contact_cellular'),\n",
       " (0.003748180946549371, 'marital_divorced'),\n",
       " (0.0037218418392391526, 'month_jan'),\n",
       " (0.003510888061994395, 'job_self-employed'),\n",
       " (0.003184039870538749, 'education_unknown'),\n",
       " (0.0030786513029945643, 'job_retired'),\n",
       " (0.0030317849793210843, 'job_unemployed'),\n",
       " (0.002911886851048173, 'job_entrepreneur'),\n",
       " (0.002585064011914357, 'job_student'),\n",
       " (0.002275750974849218, 'job_housemaid'),\n",
       " (0.0017388875417314648, 'default'),\n",
       " (0.0005623096920203736, 'job_unknown'),\n",
       " (0.00016078935457537836, 'month_dec')]"
      ]
     },
     "execution_count": 144,
     "metadata": {},
     "output_type": "execute_result"
    }
   ],
   "source": [
    "# List the features sorted in descending order by feature importance\n",
    "# Calculate feature importance in the Random Forest model.\n",
    "importances = rf.feature_importances_\n",
    "# We can sort the features by their importance.\n",
    "sorted(zip(rf.feature_importances_, X.columns), reverse=True)"
   ]
  },
  {
   "cell_type": "code",
   "execution_count": 145,
   "id": "4cd70529",
   "metadata": {},
   "outputs": [
    {
     "data": {
      "image/png": "[encoded data removed]",
      "text/plain": [
       "<Figure size 1080x720 with 1 Axes>"
      ]
     },
     "metadata": {},
     "output_type": "display_data"
    }
   ],
   "source": [
    "feat_select = pd.DataFrame(data = {'features': X_train.columns, 'feat_importance': ada.feature_importances_})\n",
    "top_10 = feat_select.sort_values(by='feat_importance', ascending=False).head(10)\n",
    "\n",
    "# show top 10 most important features\n",
    "plt.figure(figsize=(15,10))\n",
    "sns.barplot(data=top_10, y='features', x='feat_importance', order=top_10.features)\n",
    "plt.title('Feature Importance')\n",
    "plt.ylabel('Importance Score')\n",
    "plt.show()"
   ]
  },
  {
   "cell_type": "markdown",
   "id": "00da2481",
   "metadata": {},
   "source": [
    "Based on above feature importance,duration of the call  is the largest determining factor in whether or not a person will subscribe followed by day of the week, customer's age and whether if a customer has a negative balance."
   ]
  },
  {
   "cell_type": "code",
   "execution_count": null,
   "id": "5729a4ff",
   "metadata": {},
   "outputs": [],
   "source": []
  }
 ],
 "metadata": {
  "kernelspec": {
   "display_name": "PythonData",
   "language": "python",
   "name": "pythondata"
  },
  "language_info": {
   "codemirror_mode": {
    "name": "ipython",
    "version": 3
   },
   "file_extension": ".py",
   "mimetype": "text/x-python",
   "name": "python",
   "nbconvert_exporter": "python",
   "pygments_lexer": "ipython3",
   "version": "3.7.10"
  }
 },
 "nbformat": 4,
 "nbformat_minor": 5
}
